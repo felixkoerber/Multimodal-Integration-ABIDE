{
  "cells": [
    {
      "cell_type": "markdown",
      "metadata": {
        "id": "view-in-github",
        "colab_type": "text"
      },
      "source": [
        "<a href=\"https://colab.research.google.com/github/felixkoerber/Multimodal-Integration-ABIDE/blob/main/Multimodal_Integration_for_Indentifying_Stratification_of_ASD.ipynb\" target=\"_parent\"><img src=\"https://colab.research.google.com/assets/colab-badge.svg\" alt=\"Open In Colab\"/></a>"
      ]
    },
    {
      "cell_type": "code",
      "execution_count": null,
      "metadata": {
        "id": "bL29UynvVrV8"
      },
      "outputs": [],
      "source": [
        "train=False\n",
        "yang =True"
      ]
    },
    {
      "cell_type": "markdown",
      "metadata": {
        "id": "U21C3w94iMbs"
      },
      "source": [
        "# Multimodal Integration for Indentifying Stratification of ASD\n",
        "\n",
        "Code for Bachelor Thesis of Felix Körber"
      ]
    },
    {
      "cell_type": "markdown",
      "metadata": {
        "id": "qDcvVH8rjZtZ"
      },
      "source": [
        "# Imports"
      ]
    },
    {
      "cell_type": "code",
      "execution_count": null,
      "metadata": {
        "colab": {
          "base_uri": "https://localhost:8080/",
          "height": 1000
        },
        "id": "-hKGC86q6N0b",
        "outputId": "bd2e2f23-7c40-4573-98c2-ad06cd3bd88b"
      },
      "outputs": [
        {
          "output_type": "stream",
          "name": "stdout",
          "text": [
            "Collecting pytorch-ignite\n",
            "  Downloading pytorch_ignite-0.4.13-py3-none-any.whl (272 kB)\n",
            "\u001b[?25l     \u001b[90m━━━━━━━━━━━━━━━━━━━━━━━━━━━━━━━━━━━━━━━━\u001b[0m \u001b[32m0.0/272.4 kB\u001b[0m \u001b[31m?\u001b[0m eta \u001b[36m-:--:--\u001b[0m\r\u001b[2K     \u001b[91m━━━━━━━━━━━━━━━━━━━━━━━━━━━━━━━━━━\u001b[0m\u001b[91m╸\u001b[0m\u001b[90m━━━━━\u001b[0m \u001b[32m235.5/272.4 kB\u001b[0m \u001b[31m7.0 MB/s\u001b[0m eta \u001b[36m0:00:01\u001b[0m\r\u001b[2K     \u001b[90m━━━━━━━━━━━━━━━━━━━━━━━━━━━━━━━━━━━━━━━━\u001b[0m \u001b[32m272.4/272.4 kB\u001b[0m \u001b[31m5.6 MB/s\u001b[0m eta \u001b[36m0:00:00\u001b[0m\n",
            "\u001b[?25hRequirement already satisfied: torch<3,>=1.3 in /usr/local/lib/python3.10/dist-packages (from pytorch-ignite) (2.1.0+cu118)\n",
            "Requirement already satisfied: packaging in /usr/local/lib/python3.10/dist-packages (from pytorch-ignite) (23.2)\n",
            "Requirement already satisfied: filelock in /usr/local/lib/python3.10/dist-packages (from torch<3,>=1.3->pytorch-ignite) (3.13.1)\n",
            "Requirement already satisfied: typing-extensions in /usr/local/lib/python3.10/dist-packages (from torch<3,>=1.3->pytorch-ignite) (4.5.0)\n",
            "Requirement already satisfied: sympy in /usr/local/lib/python3.10/dist-packages (from torch<3,>=1.3->pytorch-ignite) (1.12)\n",
            "Requirement already satisfied: networkx in /usr/local/lib/python3.10/dist-packages (from torch<3,>=1.3->pytorch-ignite) (3.2.1)\n",
            "Requirement already satisfied: jinja2 in /usr/local/lib/python3.10/dist-packages (from torch<3,>=1.3->pytorch-ignite) (3.1.2)\n",
            "Requirement already satisfied: fsspec in /usr/local/lib/python3.10/dist-packages (from torch<3,>=1.3->pytorch-ignite) (2023.6.0)\n",
            "Requirement already satisfied: triton==2.1.0 in /usr/local/lib/python3.10/dist-packages (from torch<3,>=1.3->pytorch-ignite) (2.1.0)\n",
            "Requirement already satisfied: MarkupSafe>=2.0 in /usr/local/lib/python3.10/dist-packages (from jinja2->torch<3,>=1.3->pytorch-ignite) (2.1.3)\n",
            "Requirement already satisfied: mpmath>=0.19 in /usr/local/lib/python3.10/dist-packages (from sympy->torch<3,>=1.3->pytorch-ignite) (1.3.0)\n",
            "Installing collected packages: pytorch-ignite\n",
            "Successfully installed pytorch-ignite-0.4.13\n",
            "Requirement already satisfied: graphviz in /usr/local/lib/python3.10/dist-packages (0.20.1)\n",
            "Collecting torchview\n",
            "  Downloading torchview-0.2.6-py3-none-any.whl (25 kB)\n",
            "Installing collected packages: torchview\n",
            "Successfully installed torchview-0.2.6\n",
            "Collecting statannotations\n",
            "  Downloading statannotations-0.6.0-py3-none-any.whl (32 kB)\n",
            "Requirement already satisfied: numpy>=1.12.1 in /usr/local/lib/python3.10/dist-packages (from statannotations) (1.23.5)\n",
            "Collecting seaborn<0.12,>=0.9.0 (from statannotations)\n",
            "  Downloading seaborn-0.11.2-py3-none-any.whl (292 kB)\n",
            "\u001b[2K     \u001b[90m━━━━━━━━━━━━━━━━━━━━━━━━━━━━━━━━━━━━━━━━\u001b[0m \u001b[32m292.8/292.8 kB\u001b[0m \u001b[31m10.5 MB/s\u001b[0m eta \u001b[36m0:00:00\u001b[0m\n",
            "\u001b[?25hRequirement already satisfied: matplotlib>=2.2.2 in /usr/local/lib/python3.10/dist-packages (from statannotations) (3.7.1)\n",
            "Requirement already satisfied: pandas<2.0.0,>=0.23.0 in /usr/local/lib/python3.10/dist-packages (from statannotations) (1.5.3)\n",
            "Requirement already satisfied: scipy>=1.1.0 in /usr/local/lib/python3.10/dist-packages (from statannotations) (1.11.3)\n",
            "Requirement already satisfied: contourpy>=1.0.1 in /usr/local/lib/python3.10/dist-packages (from matplotlib>=2.2.2->statannotations) (1.2.0)\n",
            "Requirement already satisfied: cycler>=0.10 in /usr/local/lib/python3.10/dist-packages (from matplotlib>=2.2.2->statannotations) (0.12.1)\n",
            "Requirement already satisfied: fonttools>=4.22.0 in /usr/local/lib/python3.10/dist-packages (from matplotlib>=2.2.2->statannotations) (4.44.3)\n",
            "Requirement already satisfied: kiwisolver>=1.0.1 in /usr/local/lib/python3.10/dist-packages (from matplotlib>=2.2.2->statannotations) (1.4.5)\n",
            "Requirement already satisfied: packaging>=20.0 in /usr/local/lib/python3.10/dist-packages (from matplotlib>=2.2.2->statannotations) (23.2)\n",
            "Requirement already satisfied: pillow>=6.2.0 in /usr/local/lib/python3.10/dist-packages (from matplotlib>=2.2.2->statannotations) (9.4.0)\n",
            "Requirement already satisfied: pyparsing>=2.3.1 in /usr/local/lib/python3.10/dist-packages (from matplotlib>=2.2.2->statannotations) (3.1.1)\n",
            "Requirement already satisfied: python-dateutil>=2.7 in /usr/local/lib/python3.10/dist-packages (from matplotlib>=2.2.2->statannotations) (2.8.2)\n",
            "Requirement already satisfied: pytz>=2020.1 in /usr/local/lib/python3.10/dist-packages (from pandas<2.0.0,>=0.23.0->statannotations) (2023.3.post1)\n",
            "Requirement already satisfied: six>=1.5 in /usr/local/lib/python3.10/dist-packages (from python-dateutil>=2.7->matplotlib>=2.2.2->statannotations) (1.16.0)\n",
            "Installing collected packages: seaborn, statannotations\n",
            "  Attempting uninstall: seaborn\n",
            "    Found existing installation: seaborn 0.12.2\n",
            "    Uninstalling seaborn-0.12.2:\n",
            "      Successfully uninstalled seaborn-0.12.2\n",
            "\u001b[31mERROR: pip's dependency resolver does not currently take into account all the packages that are installed. This behaviour is the source of the following dependency conflicts.\n",
            "lida 0.0.10 requires fastapi, which is not installed.\n",
            "lida 0.0.10 requires kaleido, which is not installed.\n",
            "lida 0.0.10 requires python-multipart, which is not installed.\n",
            "lida 0.0.10 requires uvicorn, which is not installed.\u001b[0m\u001b[31m\n",
            "\u001b[0mSuccessfully installed seaborn-0.11.2 statannotations-0.6.0\n"
          ]
        },
        {
          "output_type": "display_data",
          "data": {
            "application/vnd.colab-display-data+json": {
              "pip_warning": {
                "packages": [
                  "seaborn"
                ]
              }
            }
          },
          "metadata": {}
        },
        {
          "output_type": "stream",
          "name": "stdout",
          "text": [
            "Collecting tableone\n",
            "  Downloading tableone-0.8.0-py3-none-any.whl (33 kB)\n",
            "Requirement already satisfied: jinja2 in /usr/local/lib/python3.10/dist-packages (from tableone) (3.1.2)\n",
            "Requirement already satisfied: numpy in /usr/local/lib/python3.10/dist-packages (from tableone) (1.23.5)\n",
            "Requirement already satisfied: openpyxl in /usr/local/lib/python3.10/dist-packages (from tableone) (3.1.2)\n",
            "Requirement already satisfied: pandas in /usr/local/lib/python3.10/dist-packages (from tableone) (1.5.3)\n",
            "Requirement already satisfied: scipy in /usr/local/lib/python3.10/dist-packages (from tableone) (1.11.3)\n",
            "Requirement already satisfied: statsmodels in /usr/local/lib/python3.10/dist-packages (from tableone) (0.14.0)\n",
            "Requirement already satisfied: tabulate in /usr/local/lib/python3.10/dist-packages (from tableone) (0.9.0)\n",
            "Requirement already satisfied: MarkupSafe>=2.0 in /usr/local/lib/python3.10/dist-packages (from jinja2->tableone) (2.1.3)\n",
            "Requirement already satisfied: et-xmlfile in /usr/local/lib/python3.10/dist-packages (from openpyxl->tableone) (1.1.0)\n",
            "Requirement already satisfied: python-dateutil>=2.8.1 in /usr/local/lib/python3.10/dist-packages (from pandas->tableone) (2.8.2)\n",
            "Requirement already satisfied: pytz>=2020.1 in /usr/local/lib/python3.10/dist-packages (from pandas->tableone) (2023.3.post1)\n",
            "Requirement already satisfied: patsy>=0.5.2 in /usr/local/lib/python3.10/dist-packages (from statsmodels->tableone) (0.5.3)\n",
            "Requirement already satisfied: packaging>=21.3 in /usr/local/lib/python3.10/dist-packages (from statsmodels->tableone) (23.2)\n",
            "Requirement already satisfied: six in /usr/local/lib/python3.10/dist-packages (from patsy>=0.5.2->statsmodels->tableone) (1.16.0)\n",
            "Installing collected packages: tableone\n",
            "Successfully installed tableone-0.8.0\n",
            "Collecting nilearn\n",
            "  Downloading nilearn-0.10.2-py3-none-any.whl (10.4 MB)\n",
            "\u001b[2K     \u001b[90m━━━━━━━━━━━━━━━━━━━━━━━━━━━━━━━━━━━━━━━━\u001b[0m \u001b[32m10.4/10.4 MB\u001b[0m \u001b[31m32.0 MB/s\u001b[0m eta \u001b[36m0:00:00\u001b[0m\n",
            "\u001b[?25hRequirement already satisfied: joblib>=1.0.0 in /usr/local/lib/python3.10/dist-packages (from nilearn) (1.3.2)\n",
            "Requirement already satisfied: lxml in /usr/local/lib/python3.10/dist-packages (from nilearn) (4.9.3)\n",
            "Requirement already satisfied: nibabel>=3.2.0 in /usr/local/lib/python3.10/dist-packages (from nilearn) (4.0.2)\n",
            "Requirement already satisfied: numpy>=1.19.0 in /usr/local/lib/python3.10/dist-packages (from nilearn) (1.23.5)\n",
            "Requirement already satisfied: packaging in /usr/local/lib/python3.10/dist-packages (from nilearn) (23.2)\n",
            "Requirement already satisfied: pandas>=1.1.5 in /usr/local/lib/python3.10/dist-packages (from nilearn) (1.5.3)\n",
            "Requirement already satisfied: requests>=2.25.0 in /usr/local/lib/python3.10/dist-packages (from nilearn) (2.31.0)\n",
            "Requirement already satisfied: scikit-learn>=1.0.0 in /usr/local/lib/python3.10/dist-packages (from nilearn) (1.2.2)\n",
            "Requirement already satisfied: scipy>=1.6.0 in /usr/local/lib/python3.10/dist-packages (from nilearn) (1.11.3)\n",
            "Requirement already satisfied: setuptools in /usr/local/lib/python3.10/dist-packages (from nibabel>=3.2.0->nilearn) (67.7.2)\n",
            "Requirement already satisfied: python-dateutil>=2.8.1 in /usr/local/lib/python3.10/dist-packages (from pandas>=1.1.5->nilearn) (2.8.2)\n",
            "Requirement already satisfied: pytz>=2020.1 in /usr/local/lib/python3.10/dist-packages (from pandas>=1.1.5->nilearn) (2023.3.post1)\n",
            "Requirement already satisfied: charset-normalizer<4,>=2 in /usr/local/lib/python3.10/dist-packages (from requests>=2.25.0->nilearn) (3.3.2)\n",
            "Requirement already satisfied: idna<4,>=2.5 in /usr/local/lib/python3.10/dist-packages (from requests>=2.25.0->nilearn) (3.4)\n",
            "Requirement already satisfied: urllib3<3,>=1.21.1 in /usr/local/lib/python3.10/dist-packages (from requests>=2.25.0->nilearn) (2.0.7)\n",
            "Requirement already satisfied: certifi>=2017.4.17 in /usr/local/lib/python3.10/dist-packages (from requests>=2.25.0->nilearn) (2023.7.22)\n",
            "Requirement already satisfied: threadpoolctl>=2.0.0 in /usr/local/lib/python3.10/dist-packages (from scikit-learn>=1.0.0->nilearn) (3.2.0)\n",
            "Requirement already satisfied: six>=1.5 in /usr/local/lib/python3.10/dist-packages (from python-dateutil>=2.8.1->pandas>=1.1.5->nilearn) (1.16.0)\n",
            "Installing collected packages: nilearn\n",
            "Successfully installed nilearn-0.10.2\n"
          ]
        },
        {
          "output_type": "stream",
          "name": "stderr",
          "text": [
            "/usr/local/lib/python3.10/dist-packages/pexpect/popen_spawn.py:60: DeprecationWarning: setDaemon() is deprecated, set the daemon attribute instead\n",
            "  self._read_thread.setDaemon(True)\n"
          ]
        },
        {
          "output_type": "stream",
          "name": "stdout",
          "text": [
            "Mounted at /content/drive/\n"
          ]
        }
      ],
      "source": [
        "## Torch\n",
        "import torch\n",
        "from torch.utils.data import Dataset\n",
        "import torch.nn as nn\n",
        "from torch.autograd import Variable\n",
        "from torch.utils.data import DataLoader\n",
        "import torch.utils.data\n",
        "from torch import nn,optim\n",
        "from torch.autograd import Variable\n",
        "\n",
        "try:\n",
        "  from ignite.engine import Engine, Events\n",
        "  from ignite.handlers import EarlyStopping\n",
        "except:\n",
        "  !pip install pytorch-ignite\n",
        "  from ignite.engine import Engine, Events\n",
        "  from ignite.handlers import EarlyStopping\n",
        "\n",
        "## Visualization\n",
        "import matplotlib.pyplot as plt\n",
        "from mpl_toolkits.mplot3d import axes3d\n",
        "from matplotlib import cm\n",
        "import seaborn as sns\n",
        "!pip install graphviz\n",
        "!pip install torchview\n",
        "from torchview import draw_graph\n",
        "import graphviz\n",
        "graphviz.set_jupyter_format('png')\n",
        "!pip install statannotations\n",
        "from statannotations.Annotator import Annotator\n",
        "\n",
        "# Data Handling\n",
        "import numpy as np\n",
        "import pandas as pd\n",
        "\n",
        "#scikit\n",
        "from yellowbrick.cluster import KElbowVisualizer\n",
        "from yellowbrick.style.palettes import PALETTES, SEQUENCES, color_palette\n",
        "from yellowbrick.style import set_palette\n",
        "\n",
        "#sklearn\n",
        "from sklearn.metrics.cluster import rand_score\n",
        "from sklearn.neighbors import KDTree\n",
        "from sklearn.impute import SimpleImputer\n",
        "from sklearn.cluster import KMeans\n",
        "from sklearn.model_selection import StratifiedKFold, permutation_test_score\n",
        "from sklearn.svm import SVC\n",
        "from sklearn.manifold import TSNE\n",
        "from sklearn.decomposition import PCA\n",
        "\n",
        "# Import tableone\n",
        "try:\n",
        "    from tableone import TableOne, load_dataset\n",
        "except (ModuleNotFoundError, ImportError):\n",
        "    # install on Colab\n",
        "    !pip install tableone\n",
        "    from tableone import TableOne, load_dataset\n",
        "\n",
        "#scipy\n",
        "from scipy import spatial\n",
        "from scipy import stats\n",
        "from scipy.stats import kendalltau, pearsonr, permutation_test,bootstrap, norm\n",
        "\n",
        "#nilearn\n",
        "!pip install nilearn\n",
        "import nilearn\n",
        "from nilearn import datasets\n",
        "from nilearn import plotting\n",
        "\n",
        "\n",
        "import warnings\n",
        "\n",
        "import plotly.graph_objects as go\n",
        "from operator import ifloordiv\n",
        "\n",
        "# Misc\n",
        "\n",
        "import cv2\n",
        "from PIL import Image\n",
        "import os\n",
        "import sys\n",
        "import imageio\n",
        "\n",
        "import argparse\n",
        "# Link Google Drive\n",
        "from google.colab import drive\n",
        "drive.mount('/content/drive/')\n"
      ]
    },
    {
      "cell_type": "markdown",
      "metadata": {
        "id": "f2DQZ-fcjxJ2"
      },
      "source": [
        "Set Up GPU"
      ]
    },
    {
      "cell_type": "code",
      "execution_count": null,
      "metadata": {
        "colab": {
          "base_uri": "https://localhost:8080/"
        },
        "id": "YGQTYUvSjw0L",
        "outputId": "e149e0f9-dc0c-4054-9996-39da2bee2990"
      },
      "outputs": [
        {
          "output_type": "stream",
          "name": "stdout",
          "text": [
            "Using device: cpu\n"
          ]
        },
        {
          "output_type": "stream",
          "name": "stderr",
          "text": [
            "/usr/local/lib/python3.10/dist-packages/ipykernel/ipkernel.py:283: DeprecationWarning: `should_run_async` will not call `transform_cell` automatically in the future. Please pass the result to `transformed_cell` argument and any exception that happen during thetransform in `preprocessing_exc_tuple` in IPython 7.17 and above.\n",
            "  and should_run_async(code)\n"
          ]
        }
      ],
      "source": [
        "device = torch.device('cuda' if torch.cuda.is_available() else 'cpu')\n",
        "print('Using device:', device)"
      ]
    },
    {
      "cell_type": "markdown",
      "metadata": {
        "id": "5-JHL2mAjwGk"
      },
      "source": []
    },
    {
      "cell_type": "markdown",
      "metadata": {
        "id": "SUBrTu2Vk3gO"
      },
      "source": [
        "# Model Architecture"
      ]
    },
    {
      "cell_type": "code",
      "execution_count": null,
      "metadata": {
        "colab": {
          "base_uri": "https://localhost:8080/"
        },
        "id": "oukdi9J9k64r",
        "outputId": "4c22e766-f600-4bf4-a559-73f780bd2472"
      },
      "outputs": [
        {
          "output_type": "stream",
          "name": "stderr",
          "text": [
            "/usr/local/lib/python3.10/dist-packages/ipykernel/ipkernel.py:283: DeprecationWarning: `should_run_async` will not call `transform_cell` automatically in the future. Please pass the result to `transformed_cell` argument and any exception that happen during thetransform in `preprocessing_exc_tuple` in IPython 7.17 and above.\n",
            "  and should_run_async(code)\n"
          ]
        }
      ],
      "source": [
        "#@title\n",
        "\n",
        "# adapted from pytorch/examples/vae and ethanluoyc/pytorch-vae\n",
        "\n",
        "\n",
        "class FC_VAE(nn.Module):\n",
        "    \"\"\"Fully connected variational Autoencoder\"\"\"\n",
        "    def __init__(self, n_input, nz, n_hidden=1024):\n",
        "        super(FC_VAE, self).__init__()\n",
        "        self.nz = nz\n",
        "        self.n_input = n_input\n",
        "        self.n_hidden = n_hidden\n",
        "\n",
        "        self.encoder = nn.Sequential(nn.Linear(n_input, n_hidden*5),\n",
        "                                nn.ReLU(inplace=True),\n",
        "                                nn.BatchNorm1d(n_hidden*5),\n",
        "\n",
        "                                nn.Linear(n_hidden*5, n_hidden*2),\n",
        "                                nn.ReLU(inplace=True),\n",
        "                                nn.BatchNorm1d(n_hidden*2),\n",
        "\n",
        "                                nn.Linear(n_hidden*2, n_hidden),\n",
        "                                nn.ReLU(inplace=True),\n",
        "                                nn.BatchNorm1d(n_hidden),\n",
        "\n",
        "                                nn.Linear(n_hidden, n_hidden),\n",
        "                                nn.ReLU(inplace=True),\n",
        "                                nn.BatchNorm1d(n_hidden),\n",
        "\n",
        "                                nn.Linear(n_hidden, n_hidden),\n",
        "                                nn.ReLU(inplace=True),\n",
        "                                nn.BatchNorm1d(n_hidden),\n",
        "                                nn.Linear(n_hidden, n_hidden),\n",
        "                                )\n",
        "\n",
        "        self.fc1 = nn.Linear(n_hidden, nz)\n",
        "        self.fc2 = nn.Linear(n_hidden, nz)\n",
        "\n",
        "        self.decoder = nn.Sequential(nn.Linear(nz, n_hidden),\n",
        "                                     nn.ReLU(inplace=True),\n",
        "                                     nn.BatchNorm1d(n_hidden),\n",
        "\n",
        "                                     nn.Linear(n_hidden, n_hidden),\n",
        "                                     nn.ReLU(inplace=True),\n",
        "                                     nn.BatchNorm1d(n_hidden),\n",
        "\n",
        "                                     nn.Linear(n_hidden, n_hidden),\n",
        "                                     nn.BatchNorm1d(n_hidden),\n",
        "                                     nn.ReLU(inplace=True),\n",
        "\n",
        "\n",
        "                                     nn.Linear(n_hidden, n_hidden*2),\n",
        "                                     nn.ReLU(inplace=True),\n",
        "                                     nn.BatchNorm1d(n_hidden*2),\n",
        "\n",
        "                                     nn.Linear(n_hidden*2, n_hidden*5),\n",
        "                                     nn.ReLU(inplace=True),\n",
        "                                     nn.BatchNorm1d(n_hidden*5),\n",
        "                                     nn.Linear(n_hidden*5, n_input),\n",
        "                                    )\n",
        "    def forward(self, x):\n",
        "        mu, logvar = self.encode(x)\n",
        "        z = self.reparametrize(mu, logvar)\n",
        "        res = self.decode(z)\n",
        "        return res, z, mu, logvar\n",
        "\n",
        "    def encode(self, x):\n",
        "        h = self.encoder(x)\n",
        "        return self.fc1(h), self.fc2(h)\n",
        "\n",
        "    def reparametrize(self, mu, logvar):\n",
        "        std = logvar.mul(0.5).exp_()\n",
        "        if torch.cuda.is_available():\n",
        "            eps = torch.cuda.FloatTensor(std.size()).normal_()\n",
        "        else:\n",
        "            eps = torch.FloatTensor(std.size()).normal_()\n",
        "        eps = Variable(eps)\n",
        "        return eps.mul(std).add_(mu)\n",
        "\n",
        "    def decode(self, z):\n",
        "        return self.decoder(z)\n",
        "\n",
        "    def get_latent_var(self, x):\n",
        "        mu, logvar = self.encode(x)\n",
        "        z = self.reparametrize(mu, logvar)\n",
        "        return z\n",
        "\n",
        "    def generate(self, z):\n",
        "        res = self.decode(z)\n",
        "        return res\n",
        "\n",
        "\n",
        "\n",
        "class FC_Classifier(nn.Module):\n",
        "    \"\"\"Latent space discriminator\"\"\"\n",
        "    def __init__(self, nz, n_hidden=512, n_out=3):\n",
        "        super(FC_Classifier, self).__init__()\n",
        "        self.nz = nz\n",
        "        self.n_hidden = n_hidden\n",
        "        self.n_out = n_out\n",
        "\n",
        "        self.net = nn.Sequential(\n",
        "            nn.Linear(nz, n_hidden),\n",
        "            nn.ReLU(inplace=True),\n",
        "            nn.Linear(n_hidden, n_hidden),\n",
        "            nn.ReLU(inplace=True),\n",
        "            nn.Linear(n_hidden, n_hidden),\n",
        "            nn.ReLU(inplace=True),\n",
        "            nn.Linear(n_hidden, n_hidden),\n",
        "            nn.ReLU(inplace=True),\n",
        "            nn.Linear(n_hidden, n_hidden),\n",
        "            nn.ReLU(inplace=True),\n",
        "            nn.Linear(n_hidden,n_out)\n",
        "        )\n",
        "    def forward(self, x):\n",
        "        return self.net(x)\n",
        "\n",
        "class Simple_Classifier(nn.Module):\n",
        "    \"\"\"Latent space discriminator\"\"\"\n",
        "    def __init__(self, nz, n_out=3):\n",
        "        super(Simple_Classifier, self).__init__()\n",
        "        self.nz = nz\n",
        "        self.n_out = n_out\n",
        "\n",
        "        self.net = nn.Sequential(\n",
        "            nn.Linear(nz, n_out),\n",
        "        )\n",
        "\n",
        "    def forward(self, x):\n",
        "        return self.net(x)\n",
        "\n"
      ]
    },
    {
      "cell_type": "markdown",
      "metadata": {
        "id": "kf-WLMrloGpN"
      },
      "source": [
        "# Arguments"
      ]
    },
    {
      "cell_type": "code",
      "execution_count": null,
      "metadata": {
        "colab": {
          "base_uri": "https://localhost:8080/"
        },
        "id": "_KYM02M8oJUf",
        "outputId": "dab41da8-ceaf-46bb-ee73-2c222360495a"
      },
      "outputs": [
        {
          "output_type": "stream",
          "name": "stderr",
          "text": [
            "/usr/local/lib/python3.10/dist-packages/ipykernel/ipkernel.py:283: DeprecationWarning: `should_run_async` will not call `transform_cell` automatically in the future. Please pass the result to `transformed_cell` argument and any exception that happen during thetransform in `preprocessing_exc_tuple` in IPython 7.17 and above.\n",
            "  and should_run_async(code)\n"
          ]
        }
      ],
      "source": [
        "# parse arguments\n",
        "class setup_args():\n",
        "\n",
        "    batch_size=32\n",
        "    max_epochs=300\n",
        "    nz=512\n",
        "    lamb=0.0000001 #beta weight\n",
        "    alpha =.1\n",
        "    dist_factor =1\n",
        "    learning_rate_D = 1e-4\n",
        "    learning_rate_AE =1e-4\n",
        "    weight_decay=0\n",
        "    n_hidden=512\n",
        "    save_freq=10\n",
        "\n",
        "args = setup_args()"
      ]
    },
    {
      "cell_type": "markdown",
      "metadata": {
        "id": "NKIehI7IdGua"
      },
      "source": [
        "# Set-Up Data"
      ]
    },
    {
      "cell_type": "code",
      "execution_count": null,
      "metadata": {
        "colab": {
          "base_uri": "https://localhost:8080/"
        },
        "id": "VL9h98WZh5PU",
        "outputId": "cd69a164-fad5-4e2d-e867-2e0fcb367cf6"
      },
      "outputs": [
        {
          "output_type": "stream",
          "name": "stderr",
          "text": [
            "/usr/local/lib/python3.10/dist-packages/ipykernel/ipkernel.py:283: DeprecationWarning: `should_run_async` will not call `transform_cell` automatically in the future. Please pass the result to `transformed_cell` argument and any exception that happen during thetransform in `preprocessing_exc_tuple` in IPython 7.17 and above.\n",
            "  and should_run_async(code)\n"
          ]
        }
      ],
      "source": [
        "### Dataloader\n",
        "class Combined_Dataset_Train():\n",
        "    def __init__(self):\n",
        "        isfunc=np.load(\"/content/drive/My Drive/BA/isfunc.npy\", allow_pickle=True)\n",
        "        #Pheno Data\n",
        "        pheno_data=pd.read_csv('/content/drive/My Drive/BA/pheno_data.csv', index_col=0)\n",
        "        pheno_data.iloc[isfunc==1]\n",
        "\n",
        "        #Functional Data\n",
        "        func_data= np.load(\"/content/drive/My Drive/BA/func_flat_Tal_new.npy\", allow_pickle=True)\n",
        "        func_data[np.where(np.isnan(func_data))]=0\n",
        "        func_data= (func_data - np.mean(func_data)) / np.std(func_data)\n",
        "\n",
        "        #Area Data\n",
        "        area_data=np.load('/content/drive/My Drive/BA/area_data_red.npy')[:,:,0].T\n",
        "        area_data=(area_data - np.mean(area_data)) / np.std(area_data)\n",
        "        area_data=area_data[isfunc==1]\n",
        "        #Cortical Thickness Data\n",
        "        thick_data=np.load('/content/drive/My Drive/BA/thick_data_red.npy')[:,:,0].T\n",
        "        thick_data=(thick_data - np.mean(thick_data)) / np.std(thick_data)\n",
        "        thick_data=thick_data[isfunc==1]\n",
        "\n",
        "        self.label = pheno_data.iloc             [isfunc==1]\n",
        "        self.func_data = func_data              [:]\n",
        "        self.area_data =area_data               [:]\n",
        "        self.thick_data =thick_data             [:]\n",
        "\n",
        "    def __len__(self):\n",
        "        return len(self.label)\n",
        "\n",
        "    def __getitem__(self, idx):\n",
        "        return torch.tensor(self.func_data[idx,:]).float(),torch.tensor(self.area_data[idx,:]).float(),torch.tensor(self.thick_data[idx,:]).float(),torch.tensor(self.label.iloc[idx,6]-1)\n"
      ]
    },
    {
      "cell_type": "markdown",
      "metadata": {
        "id": "o-mpYm7wdJ9u"
      },
      "source": [
        "# Initiate Dataloader and Models"
      ]
    },
    {
      "cell_type": "code",
      "execution_count": null,
      "metadata": {
        "colab": {
          "base_uri": "https://localhost:8080/"
        },
        "id": "oOIqRL_75wSw",
        "outputId": "6dd8ef88-e675-459e-c715-6ac933b691cf"
      },
      "outputs": [
        {
          "output_type": "stream",
          "name": "stderr",
          "text": [
            "/usr/local/lib/python3.10/dist-packages/ipykernel/ipkernel.py:283: DeprecationWarning: `should_run_async` will not call `transform_cell` automatically in the future. Please pass the result to `transformed_cell` argument and any exception that happen during thetransform in `preprocessing_exc_tuple` in IPython 7.17 and above.\n",
            "  and should_run_async(code)\n"
          ]
        },
        {
          "output_type": "stream",
          "name": "stdout",
          "text": [
            "Data loaded\n"
          ]
        }
      ],
      "source": [
        "# retrieve dataloader\n",
        "\n",
        "# Define the train and test dataloaders\n",
        "dataset_Train = (Combined_Dataset_Train())\n",
        "train_dataloader = DataLoader(dataset_Train, batch_size=args.batch_size, drop_last=False, shuffle=True)\n",
        "\n",
        "dataset_Test = (Combined_Dataset_Train())\n",
        "test_dataloader = DataLoader(dataset_Test, batch_size=args.batch_size,drop_last=False, shuffle=False)\n",
        "\n",
        "print('Data loaded')"
      ]
    },
    {
      "cell_type": "code",
      "execution_count": null,
      "metadata": {
        "colab": {
          "base_uri": "https://localhost:8080/"
        },
        "id": "nXfeBhaRjlw-",
        "outputId": "62996692-096f-44e0-c705-8f84e5ee3b70"
      },
      "outputs": [
        {
          "output_type": "stream",
          "name": "stderr",
          "text": [
            "/usr/local/lib/python3.10/dist-packages/ipykernel/ipkernel.py:283: DeprecationWarning: `should_run_async` will not call `transform_cell` automatically in the future. Please pass the result to `transformed_cell` argument and any exception that happen during thetransform in `preprocessing_exc_tuple` in IPython 7.17 and above.\n",
            "  and should_run_async(code)\n"
          ]
        }
      ],
      "source": [
        "\n",
        "#============= TRAINING INITIALIZATION ==============\n",
        "\n",
        "# initialize autoencoder\n",
        "model_func = FC_VAE  (n_input=4656,    nz=args.nz,n_hidden=args.n_hidden).to(device)\n",
        "model_thick = FC_VAE (n_input=163842,  nz=args.nz,n_hidden=args.n_hidden).to(device)\n",
        "model_area = FC_VAE  (n_input=163842,  nz=args.nz,n_hidden=args.n_hidden).to(device)\n",
        "netClf = FC_Classifier(nz=args.nz).to(device)"
      ]
    },
    {
      "cell_type": "code",
      "execution_count": null,
      "metadata": {
        "colab": {
          "base_uri": "https://localhost:8080/"
        },
        "id": "63faGTdUvnzn",
        "outputId": "30aae0b2-c9da-4e5a-b033-386f8affc195"
      },
      "outputs": [
        {
          "output_type": "stream",
          "name": "stderr",
          "text": [
            "/usr/local/lib/python3.10/dist-packages/ipykernel/ipkernel.py:283: DeprecationWarning: `should_run_async` will not call `transform_cell` automatically in the future. Please pass the result to `transformed_cell` argument and any exception that happen during thetransform in `preprocessing_exc_tuple` in IPython 7.17 and above.\n",
            "  and should_run_async(code)\n"
          ]
        }
      ],
      "source": [
        "# setup optimizer\n",
        "\n",
        "opt_netthick  = torch.optim.Adam(params=model_thick.parameters (), lr=args.learning_rate_AE)\n",
        "opt_netarea   = torch.optim.Adam(params=model_area.parameters  (), lr=args.learning_rate_AE)\n",
        "opt_netfunc   = torch.optim.Adam(params=model_func.parameters  (), lr=args.learning_rate_AE)\n",
        "opt_netClf    = torch.optim.Adam(params=netClf.parameters      (), lr=args.learning_rate_D)\n",
        "\n",
        "# loss criteria\n",
        "criterion_reconstruct = nn.MSELoss()\n",
        "criterion_classify    = nn.CrossEntropyLoss()\n",
        "criterion_latent_dis  = nn.L1Loss()\n",
        "\n",
        "criterion_reconstruct = criterion_reconstruct.to(device)\n",
        "criterion_classify    = criterion_classify.to(device)\n",
        "criterion_latent_dis    = criterion_latent_dis.to(device)"
      ]
    },
    {
      "cell_type": "markdown",
      "metadata": {
        "id": "BT1xQUfVdDCx"
      },
      "source": [
        "# Training"
      ]
    },
    {
      "cell_type": "code",
      "execution_count": null,
      "metadata": {
        "colab": {
          "base_uri": "https://localhost:8080/"
        },
        "id": "I35amxs56Qv3",
        "outputId": "37407c2d-bd15-4079-dd70-9e0bdf481be2"
      },
      "outputs": [
        {
          "output_type": "stream",
          "name": "stderr",
          "text": [
            "/usr/local/lib/python3.10/dist-packages/ipykernel/ipkernel.py:283: DeprecationWarning: `should_run_async` will not call `transform_cell` automatically in the future. Please pass the result to `transformed_cell` argument and any exception that happen during thetransform in `preprocessing_exc_tuple` in IPython 7.17 and above.\n",
            "  and should_run_async(code)\n"
          ]
        }
      ],
      "source": [
        "def compute_KL_loss(mu, logvar):\n",
        "    if args.lamb>0:\n",
        "        KLloss = -0.5*torch.sum(1 + logvar - mu.pow(2) - logvar.exp())\n",
        "        return args.lamb * KLloss\n",
        "    return 0\n",
        "\n",
        "def train_autoencoders(func_inputs, area_inputs, thick_inputs,labels):\n",
        "    model_thick.train()\n",
        "    model_area.train()\n",
        "    model_func.train()\n",
        "    netClf.eval()\n",
        "\n",
        "    if torch.cuda.is_available():\n",
        "      thick_inputs, area_inputs,func_inputs = thick_inputs.to(device), area_inputs.to(device),func_inputs.to(device)\n",
        "      labels=labels.to(device)\n",
        "\n",
        "    # forward pass\n",
        "    thick_recon, thick_latents,thick_mu, thick_logvar = model_thick(thick_inputs)\n",
        "    area_recon, area_latents, area_mu, area_logvar = model_area(area_inputs)\n",
        "    func_recon, func_latents,func_mu, func_logvar = model_func(func_inputs)\n",
        "\n",
        "    thick_to_area=model_area.decode(thick_latents)\n",
        "    thick_to_func=model_func.decode(thick_latents)\n",
        "\n",
        "    area_to_thick=model_thick.decode(area_latents)\n",
        "    area_to_func=model_func.decode(area_latents)\n",
        "\n",
        "    func_to_thick=model_thick.decode(func_latents)\n",
        "    func_to_area=model_area.decode(area_latents)\n",
        "\n",
        "    thick_scores = netClf(thick_latents)\n",
        "    area_scores = netClf(area_latents)\n",
        "    func_scores = netClf(func_latents)\n",
        "\n",
        "\n",
        "    thick_labels = torch.zeros  (thick_scores.size(0),).long()\n",
        "    area_labels  = torch.zeros(area_scores.size (0),).long()\n",
        "    func_labels  = torch.zeros (func_scores.size(0),).long()\n",
        "\n",
        "    thick_labels[:]= 0\n",
        "    area_labels [:]= 1\n",
        "    func_labels [:]= 2\n",
        "\n",
        "    if torch.cuda.is_available():\n",
        "        thick_labels, area_labels,func_labels = thick_labels.to(device), area_labels.to(device),func_labels.to(device)\n",
        "\n",
        "\n",
        "    # compute recon losses\n",
        "    thick_recon_loss = criterion_reconstruct(thick_inputs, thick_recon)\n",
        "    area_recon_loss = criterion_reconstruct(area_inputs, area_recon)\n",
        "    func_recon_loss = criterion_reconstruct(func_inputs, func_recon)\n",
        "\n",
        "\n",
        "    distances_metric =  (1/3)*criterion_latent_dis(func_latents,thick_latents) +   (1/3)*criterion_latent_dis(func_latents,area_latents)+(1/3)*criterion_latent_dis(thick_latents,area_latents)\n",
        "    distances_metric = args.dist_factor*distances_metric\n",
        "\n",
        "    # compute cross modal latent recon losses\n",
        "    cmrl_ttoa= criterion_reconstruct(area_inputs, thick_to_area)\n",
        "    cmrl_ttof= criterion_reconstruct(func_inputs, thick_to_func)\n",
        "\n",
        "    cmrl_atot= criterion_reconstruct(thick_inputs, area_to_thick)\n",
        "    cmrl_atof= criterion_reconstruct(func_inputs, area_to_func)\n",
        "\n",
        "    cmrl_ftot= criterion_reconstruct(thick_inputs, func_to_thick)\n",
        "    cmrl_ftoa= criterion_reconstruct(area_inputs, func_to_area)\n",
        "\n",
        "    cmrl = (cmrl_ttoa+cmrl_ttof+cmrl_atot+cmrl_atof+cmrl_ftot+cmrl_ftoa)/6\n",
        "\n",
        "    # compute crossmodal loss\n",
        "\n",
        "    kl_loss = compute_KL_loss(thick_mu, thick_logvar) + compute_KL_loss(area_mu, area_logvar)+compute_KL_loss(func_mu,func_logvar)\n",
        "    clf_loss =  (1/6) * criterion_classify(thick_scores, area_labels) +  \\\n",
        "      (1/6) * criterion_classify(thick_scores, func_labels) +(1/6) * criterion_classify(area_scores, func_labels) + \\\n",
        "      (1/6)* criterion_classify(area_scores, thick_labels) +  (1/6) * criterion_classify(func_scores, area_labels) +  (1/6) * criterion_classify(func_scores, thick_labels)\n",
        "    #clf_loss = (1/3)*criterion_classify(thick_scores, thick_labels) + (1/3)* criterion_classify(area_scores, area_labels) + (1/3)* criterion_classify(func_scores, func_labels)\n",
        "    loss = thick_recon_loss + area_recon_loss + func_recon_loss+ kl_loss   +  clf_loss +distances_metric + cmrl\n",
        "\n",
        "\n",
        "    # reset parameter gradients\n",
        "    opt_netthick.zero_grad()\n",
        "    opt_netarea.zero_grad()\n",
        "    opt_netfunc.zero_grad()\n",
        "\n",
        "    # backpropagate and update model\n",
        "    loss.backward()\n",
        "\n",
        "    opt_netthick.step()\n",
        "    opt_netarea.step()\n",
        "    opt_netfunc.step()\n",
        "\n",
        "    #Validation Loss\n",
        "    summary_stats = {'loss': loss,'thick_recon_loss': thick_recon_loss*thick_scores.size(0), 'area_recon_loss': area_recon_loss*area_scores.size(0),\n",
        "                     'func_recon_loss': func_recon_loss*func_scores.size(0),'clf_loss': clf_loss*(thick_scores.size(0)+area_scores.size(0)+func_scores.size(0)),\n",
        "                      'cmr_loss':cmrl*(thick_scores.size(0)+area_scores.size(0)+func_scores.size(0)),\n",
        "                      'KL_loss':kl_loss,'distances_metric':distances_metric*(thick_scores.size(0)+area_scores.size(0)+func_scores.size(0))\n",
        "                      }\n",
        "\n",
        "    return summary_stats\n",
        "\n",
        "def train_classifier(func_inputs,area_inputs,thick_inputs):\n",
        "\n",
        "    model_thick.eval()\n",
        "    model_area.eval()\n",
        "    model_func.eval()\n",
        "    netClf.train()\n",
        "\n",
        "    # process input data\n",
        "    if torch.cuda.is_available():\n",
        "      thick_inputs, area_inputs,func_inputs = thick_inputs.to(device), area_inputs.to(device),func_inputs.to(device)\n",
        "\n",
        "\n",
        "    # forward pass\n",
        "    _, thick_latents, _, _  = model_thick(thick_inputs)\n",
        "    _, area_latents, _, _   = model_area(area_inputs)\n",
        "    _, func_latents, _, _   = model_func(func_inputs)\n",
        "\n",
        "    thick_scores  = netClf(thick_latents)\n",
        "    area_scores   = netClf(area_latents)\n",
        "    func_scores   = netClf(func_latents)\n",
        "\n",
        "    thick_labels = torch.zeros  (thick_scores.size(0),).long()\n",
        "    area_labels  = torch.zeros(area_scores.size (0),).long()\n",
        "    func_labels  = torch.zeros (func_scores.size(0),).long()\n",
        "\n",
        "    thick_labels[:]= 0\n",
        "    area_labels [:]= 1\n",
        "    func_labels [:]= 2\n",
        "\n",
        "    if torch.cuda.is_available():\n",
        "        thick_labels, area_labels,func_labels = thick_labels.to(device), area_labels.to(device),func_labels.to(device)\n",
        "\n",
        "    clf_loss = (1/3)*criterion_classify(thick_scores, thick_labels) + (1/3)* criterion_classify(area_scores, area_labels) + (1/3)* criterion_classify(func_scores, func_labels)\n",
        "    loss = clf_loss\n",
        "\n",
        "\n",
        "    # backpropagate and update model\n",
        "    opt_netClf.zero_grad()\n",
        "    loss.backward()\n",
        "    opt_netClf.step()\n",
        "    summary_stats = {'clf_loss': clf_loss*(thick_scores.size(0)+area_scores.size(0)+area_scores.size(0)),\n",
        "                     'thick_n_samples': thick_scores.size(0),'area_n_samples': area_scores.size(0),\n",
        "                     'func_n_samples':func_scores.size(0)}\n",
        "\n",
        "    return summary_stats\n",
        "\n",
        "def accuracy(output, target):\n",
        "    c=output.cpu().detach().numpy()\n",
        "    target=target.cpu().detach().numpy()\n",
        "    c[np.where(c>0.5)]=1\n",
        "    c[np.where(c<0.5)]=0\n",
        "    list=0\n",
        "    for i,j in zip(c,target):\n",
        "      if i==j:\n",
        "        list+=1\n",
        "    acc=list/len(target)\n",
        "    #print(acc, list)\n",
        "    return(acc)\n",
        "\n",
        "\n",
        "def mean_loss(input):\n",
        "  mean=criterion_reconstruct(input,torch.mean(input))\n",
        "  return mean"
      ]
    },
    {
      "cell_type": "code",
      "execution_count": null,
      "metadata": {
        "colab": {
          "base_uri": "https://localhost:8080/"
        },
        "id": "fxACEt-DzJFC",
        "outputId": "c7967295-3599-45a4-839f-06c1d4efd808"
      },
      "outputs": [
        {
          "output_type": "stream",
          "name": "stderr",
          "text": [
            "/usr/local/lib/python3.10/dist-packages/ipykernel/ipkernel.py:283: DeprecationWarning: `should_run_async` will not call `transform_cell` automatically in the future. Please pass the result to `transformed_cell` argument and any exception that happen during thetransform in `preprocessing_exc_tuple` in IPython 7.17 and above.\n",
            "  and should_run_async(code)\n",
            "/usr/local/lib/python3.10/dist-packages/torch/nn/modules/loss.py:535: UserWarning: Using a target size (torch.Size([])) that is different to the input size (torch.Size([32, 4656])). This will likely lead to incorrect results due to broadcasting. Please ensure they have the same size.\n",
            "  return F.mse_loss(input, target, reduction=self.reduction)\n",
            "/usr/local/lib/python3.10/dist-packages/torch/nn/modules/loss.py:535: UserWarning: Using a target size (torch.Size([])) that is different to the input size (torch.Size([32, 163842])). This will likely lead to incorrect results due to broadcasting. Please ensure they have the same size.\n",
            "  return F.mse_loss(input, target, reduction=self.reduction)\n"
          ]
        },
        {
          "output_type": "stream",
          "name": "stdout",
          "text": [
            "torch.Size([32, 4656]) torch.Size([32, 163842]) torch.Size([32, 163842]) torch.Size([32])\n",
            "torch.Size([32, 4656]) torch.Size([32, 163842]) torch.Size([32, 163842]) torch.Size([32])\n",
            "torch.Size([32, 4656]) torch.Size([32, 163842]) torch.Size([32, 163842]) torch.Size([32])\n",
            "torch.Size([32, 4656]) torch.Size([32, 163842]) torch.Size([32, 163842]) torch.Size([32])\n",
            "torch.Size([32, 4656]) torch.Size([32, 163842]) torch.Size([32, 163842]) torch.Size([32])\n",
            "torch.Size([32, 4656]) torch.Size([32, 163842]) torch.Size([32, 163842]) torch.Size([32])\n",
            "torch.Size([32, 4656]) torch.Size([32, 163842]) torch.Size([32, 163842]) torch.Size([32])\n",
            "torch.Size([32, 4656]) torch.Size([32, 163842]) torch.Size([32, 163842]) torch.Size([32])\n",
            "torch.Size([32, 4656]) torch.Size([32, 163842]) torch.Size([32, 163842]) torch.Size([32])\n",
            "torch.Size([32, 4656]) torch.Size([32, 163842]) torch.Size([32, 163842]) torch.Size([32])\n",
            "torch.Size([32, 4656]) torch.Size([32, 163842]) torch.Size([32, 163842]) torch.Size([32])\n",
            "torch.Size([32, 4656]) torch.Size([32, 163842]) torch.Size([32, 163842]) torch.Size([32])\n",
            "torch.Size([32, 4656]) torch.Size([32, 163842]) torch.Size([32, 163842]) torch.Size([32])\n",
            "torch.Size([32, 4656]) torch.Size([32, 163842]) torch.Size([32, 163842]) torch.Size([32])\n",
            "torch.Size([32, 4656]) torch.Size([32, 163842]) torch.Size([32, 163842]) torch.Size([32])\n",
            "torch.Size([32, 4656]) torch.Size([32, 163842]) torch.Size([32, 163842]) torch.Size([32])\n",
            "torch.Size([32, 4656]) torch.Size([32, 163842]) torch.Size([32, 163842]) torch.Size([32])\n",
            "torch.Size([32, 4656]) torch.Size([32, 163842]) torch.Size([32, 163842]) torch.Size([32])\n",
            "torch.Size([32, 4656]) torch.Size([32, 163842]) torch.Size([32, 163842]) torch.Size([32])\n",
            "torch.Size([32, 4656]) torch.Size([32, 163842]) torch.Size([32, 163842]) torch.Size([32])\n",
            "torch.Size([32, 4656]) torch.Size([32, 163842]) torch.Size([32, 163842]) torch.Size([32])\n",
            "torch.Size([32, 4656]) torch.Size([32, 163842]) torch.Size([32, 163842]) torch.Size([32])\n",
            "torch.Size([32, 4656]) torch.Size([32, 163842]) torch.Size([32, 163842]) torch.Size([32])\n",
            "torch.Size([32, 4656]) torch.Size([32, 163842]) torch.Size([32, 163842]) torch.Size([32])\n",
            "torch.Size([32, 4656]) torch.Size([32, 163842]) torch.Size([32, 163842]) torch.Size([32])\n",
            "torch.Size([32, 4656]) torch.Size([32, 163842]) torch.Size([32, 163842]) torch.Size([32])\n",
            "torch.Size([32, 4656]) torch.Size([32, 163842]) torch.Size([32, 163842]) torch.Size([32])\n",
            "torch.Size([19, 4656]) torch.Size([19, 163842]) torch.Size([19, 163842]) torch.Size([19])\n"
          ]
        },
        {
          "output_type": "stream",
          "name": "stderr",
          "text": [
            "/usr/local/lib/python3.10/dist-packages/torch/nn/modules/loss.py:535: UserWarning: Using a target size (torch.Size([])) that is different to the input size (torch.Size([19, 4656])). This will likely lead to incorrect results due to broadcasting. Please ensure they have the same size.\n",
            "  return F.mse_loss(input, target, reduction=self.reduction)\n",
            "/usr/local/lib/python3.10/dist-packages/torch/nn/modules/loss.py:535: UserWarning: Using a target size (torch.Size([])) that is different to the input size (torch.Size([19, 163842])). This will likely lead to incorrect results due to broadcasting. Please ensure they have the same size.\n",
            "  return F.mse_loss(input, target, reduction=self.reduction)\n"
          ]
        }
      ],
      "source": [
        "mean_func        = 0\n",
        "mean_thick       = 0\n",
        "mean_area        = 0\n",
        "for idx, (sample) in enumerate(train_dataloader):\n",
        "\n",
        "  func_inputs   = sample[0]\n",
        "  area_inputs   = sample[1]\n",
        "  thick_inputs  = sample[2]\n",
        "  labels        = sample[3]\n",
        "  print(func_inputs.shape,area_inputs.shape,thick_inputs.shape,labels.shape)\n",
        "  mean_func     +=mean_loss(func_inputs)\n",
        "  mean_area     +=mean_loss(area_inputs)\n",
        "  mean_thick    +=mean_loss(thick_inputs)\n",
        "mean_func /= 883\n",
        "mean_area /= 883\n",
        "mean_thick/= 883\n"
      ]
    },
    {
      "cell_type": "code",
      "execution_count": null,
      "metadata": {
        "colab": {
          "base_uri": "https://localhost:8080/"
        },
        "id": "MaRdo6VCH9e2",
        "outputId": "d19ca92f-20c6-49e3-c31a-9421bb12ddb3"
      },
      "outputs": [
        {
          "output_type": "stream",
          "name": "stdout",
          "text": [
            "Training skipped due to User Input, using saved loads instead\n"
          ]
        },
        {
          "output_type": "stream",
          "name": "stderr",
          "text": [
            "/usr/local/lib/python3.10/dist-packages/ipykernel/ipkernel.py:283: DeprecationWarning: `should_run_async` will not call `transform_cell` automatically in the future. Please pass the result to `transformed_cell` argument and any exception that happen during thetransform in `preprocessing_exc_tuple` in IPython 7.17 and above.\n",
            "  and should_run_async(code)\n"
          ]
        },
        {
          "output_type": "stream",
          "name": "stdout",
          "text": [
            "Weights Loaded\n"
          ]
        }
      ],
      "source": [
        "if train ==True:\n",
        "  print('Training Model')\n",
        "  combined_loss=torch.empty(size=(0,11))\n",
        "\n",
        "  for epoch in range(args.max_epochs):\n",
        "      #print(epoch)\n",
        "\n",
        "      recon_thick_loss = 0\n",
        "      recon_area_loss  = 0\n",
        "      recon_func_loss  = 0\n",
        "      KL_loss          = 0\n",
        "      clf_loss         = 0\n",
        "      AE_clf_loss      = 0\n",
        "      cmr_loss         = 0\n",
        "      distances_metric = 0\n",
        "      n_thick_total    = 0\n",
        "      n_area_total     = 0\n",
        "      n_func_total     = 0\n",
        "      total_loss       = 0\n",
        "\n",
        "      for idx, (sample) in enumerate(train_dataloader):\n",
        "          func_inputs   = sample[0]\n",
        "          area_inputs   = sample[1]\n",
        "          thick_inputs  = sample[2]\n",
        "          labels        = sample[3]\n",
        "\n",
        "          out = train_autoencoders(func_inputs, area_inputs, thick_inputs,labels)\n",
        "\n",
        "          recon_thick_loss += out['thick_recon_loss']\n",
        "          recon_area_loss += out['area_recon_loss']\n",
        "          recon_func_loss += out['func_recon_loss']\n",
        "          AE_clf_loss += out['clf_loss']\n",
        "          cmr_loss    += out['cmr_loss']\n",
        "          KL_loss     += out['KL_loss']\n",
        "          distances_metric  += out['distances_metric']\n",
        "          total_loss  += out['loss']\n",
        "          out = train_classifier(func_inputs, area_inputs,thick_inputs)\n",
        "\n",
        "          clf_loss      += out['clf_loss']\n",
        "          n_thick_total += out['thick_n_samples']\n",
        "          n_area_total  += out['area_n_samples']\n",
        "          n_func_total += out['func_n_samples']\n",
        "\n",
        "\n",
        "\n",
        "      recon_thick_loss  /= n_thick_total\n",
        "      recon_area_loss   /= n_area_total\n",
        "      recon_func_loss   /= n_func_total\n",
        "      cmr_loss          /= (n_thick_total+n_area_total+n_func_total)\n",
        "      distances_metric  /= ((n_thick_total+n_area_total+n_func_total)*args.dist_factor)\n",
        "      KL_loss           /= (n_thick_total+n_area_total+n_func_total)\n",
        "      clf_loss /= (n_thick_total+n_area_total+n_func_total)\n",
        "      AE_clf_loss /= (n_thick_total+n_area_total+n_func_total)\n",
        "\n",
        "      if epoch==0:\n",
        "        combined_loss=torch.tensor([recon_thick_loss,mean_thick,recon_area_loss,mean_area,recon_func_loss,mean_func,KL_loss,AE_clf_loss,cmr_loss,AE_clf_loss,clf_loss,distances_metric,total_loss])[None,:]\n",
        "        print(combined_loss.size())\n",
        "      else:\n",
        "        combined_loss=torch.cat((combined_loss,torch.tensor([recon_thick_loss,mean_thick,recon_area_loss,mean_area,recon_func_loss,mean_func,KL_loss,AE_clf_loss,cmr_loss,AE_clf_loss,clf_loss,distances_metric,total_loss])[None,:]))\n",
        "        if epoch==1:\n",
        "          print(combined_loss.size())\n",
        "      print('Epoch: ', epoch ,'total loss: ',total_loss,  'distance metric: %.8f' % float(distances_metric), ', thick recon loss: %.8f' % float(recon_thick_loss), ', area recon loss: %.8f' % float(recon_area_loss), ', func recon loss: %.8f' % float(recon_func_loss),\n",
        "                  ', KL Div. loss: %.8f' %float (KL_loss), ', Cross-Modal loss: %.8f' % float(cmr_loss), ', AE clf loss: %.8f' % float(AE_clf_loss), ', clf loss: %.8f' % float(clf_loss))\n",
        "      print('Meanthick: ',mean_thick,'Mean area: ',mean_area,'Mean func: ',mean_func)\n",
        "  for idx in range(len(combined_loss)):\n",
        "    if idx<7:\n",
        "      plt.plot(combined_loss[:,idx])\n",
        "      #print(combined_loss[:,idx])\n",
        "\n",
        "  '''torch.save(model_thick.cpu().state_dict(),os.path.join(\"/content/drive/My Drive/BA/weights/\",  \"big_model_thick_complicated_loss_%s.pth\" % epoch))\n",
        "  torch.save  (model_area.cpu().state_dict(),os.path.join(\"/content/drive/My Drive/BA/weights/\", \"big_model_area_complicated_loss_%s.pth\" % epoch))\n",
        "  torch.save  (model_func.cpu().state_dict(), os.path.join(\"/content/drive/My Drive/BA/weights/\",\"big_model_func_complicated_loss_%s.pth\" % epoch))\n",
        "  torch.save  (netClf.cpu().state_dict(),os.path.join(\"/content/drive/My Drive/BA/weights/\",     \"big_netClf_complicated_loss_%s.pth\" % epoch))'''\n",
        "  for idx in range(len(combined_loss)):\n",
        "    if idx<12:\n",
        "      plt.plot(combined_loss[:,idx])\n",
        "      #print(combined_loss[:,idx])\n",
        "else:\n",
        "  print('Training skipped due to User Input, using saved loads instead')\n",
        "  model_thick.load_state_dict(torch.load(os.path.join      (\"/content/drive/My Drive/BA/weights/bohe_model_thick_complicated_loss_299.pth\")))\n",
        "  model_area.load_state_dict(torch.load(os.path.join       (\"/content/drive/My Drive/BA/weights/bohe_model_area_complicated_loss_299.pth\")))\n",
        "  model_func.load_state_dict(torch.load(os.path.join       (\"/content/drive/My Drive/BA/weights/bohe_model_func_complicated_loss_299.pth\")))\n",
        "  netClf.load_state_dict(torch.load(os.path.join           (\"/content/drive/My Drive/BA/weights/bohe_netClf_complicated_loss_299.pth\")))\n",
        "  print(\"Weights Loaded\")\n"
      ]
    },
    {
      "cell_type": "markdown",
      "metadata": {
        "id": "lx1hTogyNGTl"
      },
      "source": [
        "## Yang integration"
      ]
    },
    {
      "cell_type": "code",
      "execution_count": null,
      "metadata": {
        "colab": {
          "base_uri": "https://localhost:8080/"
        },
        "id": "bQOB4Y7yBOer",
        "outputId": "bf4e921c-8639-4755-b4a8-2e83aca59da0"
      },
      "outputs": [
        {
          "output_type": "stream",
          "name": "stderr",
          "text": [
            "/usr/local/lib/python3.10/dist-packages/ipykernel/ipkernel.py:283: DeprecationWarning: `should_run_async` will not call `transform_cell` automatically in the future. Please pass the result to `transformed_cell` argument and any exception that happen during thetransform in `preprocessing_exc_tuple` in IPython 7.17 and above.\n",
            "  and should_run_async(code)\n"
          ]
        }
      ],
      "source": [
        "def nearest_neighbour(points_a, points_b):\n",
        "      tree = spatial.KDTree(points_b)\n",
        "      return tree.query(points_a,k=50)[1]\n",
        "\n",
        "if yang == True:\n",
        "  # initialize autoencoder\n",
        "  yang_model_func    = FC_VAE  (n_input=4656,    nz=args.nz,n_hidden=args.n_hidden).to(device)\n",
        "  yang_model_thick  = FC_VAE (n_input=163842,  nz=args.nz,n_hidden=args.n_hidden).to(device)\n",
        "  yang_model_area   = FC_VAE  (n_input=163842,  nz=args.nz,n_hidden=args.n_hidden).to(device)\n",
        "  yang_netClf        = FC_Classifier(nz=args.nz).to(device)\n",
        "  yang_model_func   .load_state_dict(torch.load(os.path.join      (\"/content/drive/My Drive/BA/weights/yang_bohe_model_func_complicated_loss_308.pth\")))\n",
        "  yang_model_thick .load_state_dict(torch.load(os.path.join      (\"/content/drive/My Drive/BA/weights/yang_bohe_model_thick_complicated_loss_308.pth\")))\n",
        "  yang_model_area  .load_state_dict(torch.load(os.path.join      (\"/content/drive/My Drive/BA/weights/yang_bohe_model_area_complicated_loss_308.pth\")))\n",
        "  yang_netClf      .load_state_dict(torch.load(os.path.join      (\"/content/drive/My Drive/BA/weights/yang_bohe_netClf_complicated_loss_308.pth\")))\n",
        "  yang_model_func.to(device)\n",
        "  yang_model_thick.to(device)\n",
        "  yang_model_area.to(device)\n",
        "\n",
        "  for idx, (sample) in enumerate(test_dataloader):\n",
        "      func_inputs   = sample[0]\n",
        "      area_inputs   = sample[1]\n",
        "      thick_inputs  = sample[2]\n",
        "      labels        = sample[3]\n",
        "\n",
        "      if torch.cuda.is_available():\n",
        "          thick_inputs, area_inputs,func_inputs = thick_inputs.cuda(), area_inputs.cuda(), func_inputs.cuda()\n",
        "\n",
        "      # forward pass\n",
        "      _, thick_latents, _, _ =  yang_model_thick  (thick_inputs)\n",
        "      _, area_latents, _, _ =   yang_model_area (area_inputs)\n",
        "      _, func_latents, _, _ =   yang_model_func (func_inputs)\n",
        "\n",
        "      if idx ==0:\n",
        "        yang_thick_latent_ful,yang_area_latent_ful,yang_func_latent_ful=thick_latents,area_latents,func_latents\n",
        "\n",
        "      else:\n",
        "        yang_thick_latent_ful=torch.cat((yang_thick_latent_ful,thick_latents))\n",
        "        yang_area_latent_ful=torch.cat((yang_area_latent_ful,area_latents))\n",
        "        yang_func_latent_ful=torch.cat((yang_func_latent_ful,func_latents))\n",
        "  n=0\n",
        "  yang_neighbors = np.zeros((6,yang_func_latent_ful.size(0),50))\n",
        "  for i, lat_vec1 in enumerate([yang_area_latent_ful.detach().numpy(), yang_thick_latent_ful.detach().numpy(), yang_func_latent_ful.detach().numpy()]):\n",
        "    for j, lat_vec2 in enumerate([yang_area_latent_ful.detach().numpy(), yang_thick_latent_ful.detach().numpy(), yang_func_latent_ful.detach().numpy()]):\n",
        "      if i!=j:\n",
        "        yang_neighbors[n,:]=nearest_neighbour(lat_vec1,lat_vec2)\n",
        "        n+=1\n",
        "  yang_neighbors_acc = np.zeros((7,50))\n",
        "  for m in range(6):\n",
        "    for k in range(50):\n",
        "      acc=0\n",
        "      for i in range(yang_func_latent_ful.size(0)):\n",
        "        if i in yang_neighbors[m,i,:k]:\n",
        "          acc+=1\n",
        "      if k==0:\n",
        "        yang_neighbors_acc[m,k]=0\n",
        "      else:\n",
        "        yang_neighbors_acc[m,k]=acc/yang_func_latent_ful.size(0)\n",
        "  for k in range(50):\n",
        "    if k==0:\n",
        "      yang_neighbors_acc[6,k]=0\n",
        "    else:\n",
        "      yang_neighbors_acc[6,k]=1/(yang_func_latent_ful.size(0)/k)\n",
        "\n",
        "  yang_neighbors_acc = pd.DataFrame(yang_neighbors_acc.T, columns = ['Goal: FC, Neighbors: CSA',\n",
        "                                                'Goal: FC, Neighbors: CT',\n",
        "                                                'Goal: CSA, Neighbors: FC',\n",
        "                                                'Goal: CSA, Neighbors: CT',\n",
        "                                                'Goal: CT, Neighbors: FC',\n",
        "                                                'Goal: CT, Neighbors: CSA',\n",
        "                                                'Random Accuracy'])\n",
        "\n"
      ]
    },
    {
      "cell_type": "code",
      "execution_count": null,
      "metadata": {
        "colab": {
          "base_uri": "https://localhost:8080/",
          "height": 198
        },
        "id": "mYywjpCI1QeB",
        "outputId": "7f0a412e-89c4-448c-f96d-b0cd742c368e"
      },
      "outputs": [
        {
          "output_type": "stream",
          "name": "stderr",
          "text": [
            "/usr/local/lib/python3.10/dist-packages/ipykernel/ipkernel.py:283: DeprecationWarning: `should_run_async` will not call `transform_cell` automatically in the future. Please pass the result to `transformed_cell` argument and any exception that happen during thetransform in `preprocessing_exc_tuple` in IPython 7.17 and above.\n",
            "  and should_run_async(code)\n"
          ]
        },
        {
          "output_type": "error",
          "ename": "IndentationError",
          "evalue": "ignored",
          "traceback": [
            "\u001b[0;36m  File \u001b[0;32m\"<ipython-input-14-e99a05cf6c83>\"\u001b[0;36m, line \u001b[0;32m11\u001b[0m\n\u001b[0;31m    print(criterion_classify(yang_netClf(yang_thick_latent_ful),thick_labels),\u001b[0m\n\u001b[0m    ^\u001b[0m\n\u001b[0;31mIndentationError\u001b[0m\u001b[0;31m:\u001b[0m expected an indented block after 'for' statement on line 8\n"
          ]
        }
      ],
      "source": [
        "thick_labels = torch.zeros  (yang_thick_latent_ful.shape[0]).long()\n",
        "area_labels  = torch.zeros(yang_thick_latent_ful.shape[0]).long()\n",
        "func_labels  = torch.zeros (yang_thick_latent_ful.shape[0]).long()\n",
        "\n",
        "thick_labels[:]= 0\n",
        "area_labels [:]= 1\n",
        "func_labels [:]= 2\n",
        "for i,m in enumerate((thick_latent_ful,area_latent_ful,area_latent_ful)):\n",
        "\n",
        "\n",
        "print(criterion_classify(yang_netClf(yang_thick_latent_ful),thick_labels),\n",
        "      criterion_classify(yang_netClf(yang_area_latent_ful),area_labels),\n",
        "      criterion_classify(yang_netClf(yang_func_latent_ful),func_labels))\n",
        "print(criterion_classify(netClf(thick_latent_ful),thick_labels),\n",
        "      criterion_classify(netClf(area_latent_ful),area_labels),\n",
        "      criterion_classify(netClf(func_latent_ful),func_labels))"
      ]
    },
    {
      "cell_type": "code",
      "execution_count": null,
      "metadata": {
        "id": "6QgR2Od4brQv"
      },
      "outputs": [],
      "source": [
        "'''torch.save(model_thick.cpu().state_dict(),os.path.join(\"/content/drive/My Drive/BA/weights/\",  \"bohe_model_thick_complicated_loss_%s.pth\" % epoch))\n",
        "torch.save  (model_area.cpu().state_dict(),os.path.join(\"/content/drive/My Drive/BA/weights/\", \"bohe_model_area_complicated_loss_%s.pth\" % epoch))\n",
        "torch.save  (model_func.cpu().state_dict(), os.path.join(\"/content/drive/My Drive/BA/weights/\",\"bohe_model_func_complicated_loss_%s.pth\" % epoch))\n",
        "torch.save  (netClf.cpu().state_dict(),os.path.join(\"/content/drive/My Drive/BA/weights/\",     \"bohe_netClf_complicated_loss_%s.pth\" % epoch))'''"
      ]
    },
    {
      "cell_type": "markdown",
      "metadata": {
        "id": "Sm__Lh5IZF4J"
      },
      "source": [
        "# Clusteranalysis"
      ]
    },
    {
      "cell_type": "code",
      "execution_count": null,
      "metadata": {
        "id": "y0z4P84168kZ"
      },
      "outputs": [],
      "source": [
        "#import full pheno\n",
        "pheno2=pd.read_csv('/content/drive/My Drive/BA/pheno_relevant.csv', index_col=0)\n",
        "#str labels to int\n",
        "pheno2['HANDEDNESS_CATEGORY'].loc[pheno2['HANDEDNESS_CATEGORY']=='R']=0\n",
        "pheno2['HANDEDNESS_CATEGORY'].loc[pheno2['HANDEDNESS_CATEGORY']=='L']=1\n",
        "pheno2['HANDEDNESS_CATEGORY'].loc[pheno2['HANDEDNESS_CATEGORY']=='Mixed']=2\n",
        "pheno2['HANDEDNESS_CATEGORY'].loc[pheno2['HANDEDNESS_CATEGORY']=='Ambi']=2\n",
        "pheno2['HANDEDNESS_CATEGORY'].loc[pheno2['HANDEDNESS_CATEGORY']=='L->R']=2\n",
        "\n",
        "\n",
        "pheno2= pheno2.drop(['HANDEDNESS_SCORES','ADI_R_RSRCH_RELIABLE','ADOS_MODULE','SRS_AWARENESS','SRS_COGNITION','SRS_COMMUNICATION','SRS_MOTIVATION','SRS_MANNERISMS','SRS_MANNERISMS','SCQ_TOTAL','AQ_TOTAL'],axis=1)\n",
        "cluster=list(pheno2.columns)\n",
        "mytable = TableOne(pheno2,cluster, dip_test=True, normal_test=True, tukey_test=True)\n",
        "\n",
        "\n",
        "#impute missing labels for KMeans\n",
        "imp = SimpleImputer(missing_values=np.nan, strategy='mean')\n",
        "imp.fit(pheno2)\n",
        "pheno2_imputed=imp.transform(pheno2)\n",
        "\n",
        "#Get internal clustering\n",
        "# Elbow Method for K means# Import ElbowVisualizer\n",
        "\n",
        "model = KMeans()\n",
        "# k is range of number of clusters.\n",
        "visualizer_pheno = KElbowVisualizer(model, k=(2,10 ), timings= True,n_init=10)\n",
        "visualizer_pheno.fit(pheno2_imputed)        # Fit data to visualizer\n",
        "visualizer_pheno.show()"
      ]
    },
    {
      "cell_type": "code",
      "execution_count": null,
      "metadata": {
        "id": "WtJIzY6r6-8n"
      },
      "outputs": [],
      "source": [
        "#courtesy of https://stackoverflow.com/questions/35611465/python-scikit-learn-clustering-with-missing-data\n",
        "def kmeans_missing(X, n_clusters, max_iter=10):\n",
        "    \"\"\"Perform K-Means clustering on data with missing values.\n",
        "    Args:\n",
        "      X: An [n_samples, n_features] array of data to cluster.\n",
        "      n_clusters: Number of clusters to form.\n",
        "      max_iter: Maximum number of EM iterations to perform.\n",
        "    Returns:\n",
        "      labels: An [n_samples] vector of integer labels.\n",
        "      centroids: An [n_clusters, n_features] array of cluster centroids.\n",
        "      X_hat: Copy of X with the missing values filled in.\n",
        "    \"\"\"\n",
        "\n",
        "    # Initialize missing values to their column means\n",
        "    missing = ~np.isfinite(X)\n",
        "    mu = np.nanmean(X, 0, keepdims=1)\n",
        "    X_hat = np.where(missing, mu, X)\n",
        "\n",
        "    for i in range(max_iter):\n",
        "        if i > 0:\n",
        "            # initialize KMeans with the previous set of centroids. this is much faster and makes it easier to check convergence (since labels won't be permuted on every iteration), but might be more prone togetting stuck in local minima.\n",
        "            cls = KMeans(n_clusters, init=prev_centroids)\n",
        "        else:\n",
        "            # do multiple random initializations in parallel\n",
        "            cls = KMeans(n_clusters)\n",
        "\n",
        "        # perform clustering on the filled-in data\n",
        "        labels = cls.fit_predict(X_hat)\n",
        "        centroids = cls.cluster_centers_\n",
        "\n",
        "        # fill in the missing values based on their cluster centroids\n",
        "        X_hat[missing] = centroids[labels][missing]\n",
        "\n",
        "        # when the labels have stopped changing then we have converged\n",
        "        if i > 0 and np.all(labels == prev_labels):\n",
        "            break\n",
        "\n",
        "        prev_labels = labels\n",
        "        prev_centroids = cls.cluster_centers_\n",
        "\n",
        "    return labels, centroids, X_hat"
      ]
    },
    {
      "cell_type": "code",
      "execution_count": null,
      "metadata": {
        "colab": {
          "base_uri": "https://localhost:8080/"
        },
        "id": "R5I162UuN_mu",
        "outputId": "2c404bb6-9ce5-4a27-ae6e-c1b82df3793e"
      },
      "outputs": [
        {
          "output_type": "stream",
          "name": "stderr",
          "text": [
            "/usr/local/lib/python3.10/dist-packages/ipykernel/ipkernel.py:283: DeprecationWarning: `should_run_async` will not call `transform_cell` automatically in the future. Please pass the result to `transformed_cell` argument and any exception that happen during thetransform in `preprocessing_exc_tuple` in IPython 7.17 and above.\n",
            "  and should_run_async(code)\n"
          ]
        }
      ],
      "source": [
        "model_thick.to(device)\n",
        "model_area.to(device)\n",
        "model_func.to(device)\n",
        "netClf.to(device)\n",
        "for idx, (sample) in enumerate(test_dataloader):\n",
        "    func_inputs   = sample[0]\n",
        "    area_inputs   = sample[1]\n",
        "    thick_inputs  = sample[2]\n",
        "    labels        = sample[3]\n",
        "\n",
        "    if torch.cuda.is_available():\n",
        "        thick_inputs, area_inputs,func_inputs = thick_inputs.cuda(), area_inputs.cuda(), func_inputs.cuda()\n",
        "\n",
        "    # forward pass\n",
        "    _, thick_latents, _, _ = model_thick(thick_inputs)\n",
        "    _, area_latents, _, _ = model_area(area_inputs)\n",
        "    _, func_latents, _, _ = model_func(func_inputs)\n",
        "\n",
        "    thick_scores = netClf(thick_latents)\n",
        "    area_scores = netClf(area_latents)\n",
        "\n",
        "    func_scores = netClf(func_latents)\n",
        "    if idx ==0:\n",
        "      thick_latent_ful,area_latent_ful,func_latent_ful,labels_ful=thick_latents,area_latents,func_latents,labels\n",
        "\n",
        "    else:\n",
        "      thick_latent_ful=torch.cat((thick_latent_ful,thick_latents))\n",
        "      area_latent_ful=torch.cat((area_latent_ful,area_latents))\n",
        "      func_latent_ful=torch.cat((func_latent_ful,func_latents))\n",
        "      labels_ful=torch.cat((labels_ful,labels))"
      ]
    },
    {
      "cell_type": "code",
      "execution_count": null,
      "metadata": {
        "id": "AMitHYA7PVe4"
      },
      "outputs": [],
      "source": [
        "def nearest_neighbour(points_a, points_b):\n",
        "    tree = spatial.KDTree(points_b)\n",
        "    return tree.query(points_a,k=50)[1]\n",
        "n=0\n",
        "neighbors = np.zeros((6,func_latent_ful.size(0),50))\n",
        "for i, lat_vec1 in enumerate([area_latent_ful.detach().numpy(), thick_latent_ful.detach().numpy(), func_latent_ful.detach().numpy()]):\n",
        "  for j, lat_vec2 in enumerate([area_latent_ful.detach().numpy(), thick_latent_ful.detach().numpy(), func_latent_ful.detach().numpy()]):\n",
        "    if i!=j:\n",
        "      neighbors[n,:]=nearest_neighbour(lat_vec1,lat_vec2)\n",
        "      n+=1\n",
        "\n",
        "neighbors_acc = np.zeros((7,50))\n",
        "\n",
        "for m in range(6):\n",
        "  for k in range(50):\n",
        "    acc=0\n",
        "    for i in range(func_latent_ful.size(0)):\n",
        "      if i in neighbors[m,i,:k]:\n",
        "        acc+=1\n",
        "    if k==0:\n",
        "      neighbors_acc[m,k]=0\n",
        "    else:\n",
        "      neighbors_acc[m,k]=acc/func_latent_ful.size(0)\n",
        "for k in range(50):\n",
        "  if k==0:\n",
        "    neighbors_acc[6,k]=0\n",
        "  else:\n",
        "    neighbors_acc[6,k]=1/(func_latent_ful.size(0)/k)\n",
        "\n",
        "neighbors_acc = pd.DataFrame(neighbors_acc.T, columns = ['Goal: FC, Neighbors: CSA',\n",
        "                                              'Goal: FC, Neighbors: CT',\n",
        "                                              'Goal: CSA, Neighbors: FC',\n",
        "                                              'Goal: CSA, Neighbors: CT',\n",
        "                                              'Goal: CT, Neighbors: FC',\n",
        "                                              'Goal: CT, Neighbors: CSA',\n",
        "                                              'Random Accuracy'])\n",
        "\n"
      ]
    },
    {
      "cell_type": "code",
      "execution_count": null,
      "metadata": {
        "id": "oLUYsmiEExnR"
      },
      "outputs": [],
      "source": [
        "'''np.save(\"/content/drive/My Drive/BA/bh_func_latents\",func_latent_ful.detach().cpu().numpy())\n",
        "np.save(\"/content/drive/My Drive/BA/bh_area_latents\",thick_latent_ful.detach().cpu().numpy())\n",
        "np.save(\"/content/drive/My Drive/BA/bh_thick_latents\",area_latent_ful.detach().cpu().numpy())'''"
      ]
    },
    {
      "cell_type": "code",
      "execution_count": null,
      "metadata": {
        "id": "jH2TbeGguqXf"
      },
      "outputs": [],
      "source": [
        "\n",
        "fig, ax = plt.subplots(1,2,figsize=(10,4), dpi=300, constrained_layout=True)\n",
        "\n",
        "ax1 = sns.lineplot(data=neighbors_acc,ax=ax[0],legend=None)\n",
        "ax1.set(ylim=(0, 1))\n",
        "box = ax1.get_position()\n",
        "ax1.set_position([box.x0, box.y0 + box.height * 0.1,\n",
        "                 box.width, box.height * 0.9])\n",
        "ax1.legend()\n",
        "\n",
        "ax1.set(xlabel=\"Number of k-nearest neighbors\", ylabel=\"k-nearest neighbors accuracy\")\n",
        "ax1.set_title(\"Our Method\")\n",
        "ax2 = sns.lineplot(data=yang_neighbors_acc,ax=ax[1])\n",
        "ax2.set(ylim=(0, 1))\n",
        "\n",
        "box = ax2.get_position()\n",
        "ax2.set_position([box.x0, box.y0 + box.height * 0.1,\n",
        "                 box.width, box.height * 0.9])\n",
        "ax2.legend(loc='upper center', bbox_to_anchor=(-0.15, -0.15),\n",
        "          fancybox=True, shadow=True, ncol=2,frameon=True)\n",
        "ax2.set_title(\"Yang et al. (2021)\")\n",
        "\n",
        "ax2.set(xlabel=\"Number of k-nearest neighbors\", ylabel=\"k-nearest neighbors accuracy\")\n",
        "\n",
        "#plt.suptitle(\"k-nearest Neighbor Accuracy of different Modality Pairs\")\n",
        "\n"
      ]
    },
    {
      "cell_type": "code",
      "execution_count": null,
      "metadata": {
        "id": "J3NsMI6ugsfG"
      },
      "outputs": [],
      "source": [
        "warnings.filterwarnings(\"ignore\")\n",
        "model = KMeans()\n",
        "set_palette('paired')\n",
        "fig, ax = plt.subplots(1,3,figsize=(10,3), dpi=300, constrained_layout=True)\n",
        "\n",
        "fig.suptitle(\"Distortion Score Elbow for KMeans Clusterings\")\n",
        "\n",
        "visualizer_func = KElbowVisualizer(model, k=(2,10 ), timings= False,n_init=10,ax=ax[0],vline_color=\"red\")\n",
        "visualizer_func.fit(func_latent_ful.detach().cpu().numpy())        # Fit data to visualizer\n",
        "\n",
        "ax[0].set(xlabel='k', ylabel='Distortion Score', title='Functional Connectivity', xticks=range(2,10))\n",
        "\n",
        "\n",
        "visualizer_area = KElbowVisualizer(model, k=(2,10 ), timings= False,n_init=10,ax=ax[1], metric_color='C1')\n",
        "visualizer_area.fit(area_latent_ful.detach().cpu().numpy())        # Fit data to visualizer\n",
        "ax[1].set(xlabel='k', ylabel='Distortion Score', title='Cortical Surface Area', xticks=range(2,10))\n",
        "\n",
        "visualizer_thick = KElbowVisualizer(model, k=(2,10 ), timings= False,n_init=10,ax=ax[2], metric_color='C1')\n",
        "visualizer_thick.fit(thick_latent_ful.detach().cpu().numpy())        # Fit data to visualizer\n",
        "ax[2].set(xlabel='k', ylabel='Distortion Score', title='Cortical Thickness', xticks=range(2,10))\n",
        "\n",
        "plt.show()"
      ]
    },
    {
      "cell_type": "code",
      "execution_count": null,
      "metadata": {
        "id": "bLlcG88Ima_3"
      },
      "outputs": [],
      "source": [
        "kmeans_func = KMeans  (n_clusters=5, random_state=0).fit(func_latent_ful.detach().cpu().numpy())\n",
        "kmeans_area = KMeans  (n_clusters=5, random_state=0).fit(area_latent_ful.detach().cpu().numpy())\n",
        "kmeans_thick = KMeans (n_clusters=5, random_state=0).fit(thick_latent_ful.detach().cpu().numpy())\n",
        "\n",
        "\n",
        "\n",
        "print(rand_score(kmeans_area.labels_,kmeans_func.labels_))\n",
        "print(rand_score(kmeans_func.labels_,kmeans_thick.labels_))\n",
        "print(rand_score(kmeans_thick.labels_,kmeans_area.labels_))\n",
        "print(rand_score(np.random.randint(5, size=len(kmeans_func.labels_)),np.random.randint(5, size=len(kmeans_func.labels_))))\n",
        "\n",
        "\n"
      ]
    },
    {
      "cell_type": "code",
      "execution_count": null,
      "metadata": {
        "id": "uAdgVjKEbZjS"
      },
      "outputs": [],
      "source": [
        "perm_res= permutation_test((kmeans_area.labels_,kmeans_func.labels_), rand_score,\n",
        "          n_resamples=1000, alternative='greater',permutation_type='pairings')\n",
        "print(perm_res.pvalue)\n",
        "perm_res= permutation_test((kmeans_thick.labels_,kmeans_area.labels_), rand_score,\n",
        "          n_resamples=1000, alternative='greater',permutation_type='pairings')\n",
        "print(perm_res.pvalue)\n",
        "perm_res= permutation_test((kmeans_func.labels_,kmeans_thick.labels_), rand_score,\n",
        "          n_resamples=1000, alternative='greater',permutation_type='pairings')\n",
        "print(perm_res.pvalue)\n"
      ]
    },
    {
      "cell_type": "code",
      "execution_count": null,
      "metadata": {
        "id": "dLRrbmeoec2H"
      },
      "outputs": [],
      "source": [
        "'''for i in range(len(np.array(pheno2, dtype=float)[0,:])):\n",
        "  pheno_clustersi=kmeans_missing(np.expand_dims(np.array(pheno2, dtype=float)[:,i],axis=1),2)[0]\n",
        "  print(\"Rand_score of Latent Representation Clustering: '\",pheno2.columns[i],\"'  and Clustering based on Phenotype Data:\", rand_score(kmeans_area.labels_,pheno_clustersi[:]))\n",
        "'''"
      ]
    },
    {
      "cell_type": "markdown",
      "metadata": {
        "id": "iLf5EXL_mKX2"
      },
      "source": [
        "## Get tsne representation"
      ]
    },
    {
      "cell_type": "code",
      "execution_count": null,
      "metadata": {
        "id": "62TRMcV-z4KN"
      },
      "outputs": [],
      "source": [
        "full=np.concatenate((func_latent_ful.detach().cpu().numpy(),area_latent_ful.detach().cpu().numpy(),thick_latent_ful.detach().cpu().numpy()))\n",
        "X3_embedded = TSNE(n_components=3, learning_rate='auto',init='pca', perplexity=30,random_state=0).fit_transform(np.concatenate((func_latent_ful.detach().cpu().numpy(),area_latent_ful.detach().cpu().numpy(),thick_latent_ful.detach().cpu().numpy())))\n",
        "\n",
        "X3_embedded_func = X3_embedded[:func_latent_ful.shape[0],:]\n",
        "X3_embedded_area = X3_embedded[func_latent_ful.shape[0]:(func_latent_ful.shape[0]*2),:]\n",
        "X3_embedded_thick =X3_embedded[(func_latent_ful.shape[0]*2):(func_latent_ful.shape[0]*3),:]\n",
        "\n",
        "yang_full=np.concatenate((yang_func_latent_ful.detach().cpu().numpy(),yang_area_latent_ful.detach().cpu().numpy(),yang_thick_latent_ful.detach().cpu().numpy()))\n",
        "yang_X3_embedded = TSNE(n_components=3, learning_rate='auto',init='pca', perplexity=30,random_state=0).fit_transform(yang_full)\n",
        "\n",
        "yang_X3_embedded_func = yang_X3_embedded[:func_latent_ful.shape[0],:]\n",
        "yang_X3_embedded_area = yang_X3_embedded[func_latent_ful.shape[0]:(func_latent_ful.shape[0]*2),:]\n",
        "yang_X3_embedded_thick =yang_X3_embedded[(func_latent_ful.shape[0]*2):(func_latent_ful.shape[0]*3),:]\n",
        "3"
      ]
    },
    {
      "cell_type": "code",
      "execution_count": null,
      "metadata": {
        "id": "xQBSO_-wR1ee"
      },
      "outputs": [],
      "source": [
        "# tsne neighbors\n",
        "tsne_match=0\n",
        "neighbors_tsne = np.zeros((X3_embedded_func.shape[0],10))\n",
        "for i in range(X3_embedded_func.shape[0]):\n",
        "  neighbors_tsne[i]=nearest_neighbour(X3_embedded_func, X3_embedded_area)[i,0:10]\n",
        "  if i in neighbors_tsne[i]:\n",
        "    #print(i,neighbors_tsne[i])\n",
        "    tsne_match+=1\n",
        "print('accuracy of X in 10 nearest neighbors:', tsne_match/X3_embedded_func.shape[0])"
      ]
    },
    {
      "cell_type": "markdown",
      "metadata": {
        "id": "qQRIw2oamZ4r"
      },
      "source": [
        "## tSNE Visualizations"
      ]
    },
    {
      "cell_type": "code",
      "execution_count": null,
      "metadata": {
        "id": "P-NkTaK_F8f9"
      },
      "outputs": [],
      "source": [
        "n=83 #participant with working matching\n",
        "\n",
        "index=list(neighbors[1,n,:10].astype(int))\n",
        "\n",
        "fig = plt.figure(figsize=(8,4), dpi= 300,constrained_layout=True)\n",
        "\n",
        "ax1 = fig.add_subplot(1, 2, 1, projection='3d')\n",
        "func_full= ax1.scatter(X3_embedded_func   [:,0], X3_embedded_func[:,1], X3_embedded_func[:,2],  marker='o',c='lightcoral'   ,alpha=0.5 ,s=10  ,label=\"Functional Connectivity\")\n",
        "area_full= ax1.scatter(X3_embedded_area   [:,0], X3_embedded_area[:,1], X3_embedded_area[:,2],   marker='^',c='cornflowerblue' ,alpha=0.5 ,s=10  ,label=\"Cortical Thickness\")\n",
        "thick_full=  ax1.scatter(X3_embedded_thick[:,0],X3_embedded_thick[:,1],X3_embedded_thick[:,2],   marker='p',c='seagreen',alpha=0.5 ,s=10,label=\"Cortical Surface Area\")\n",
        "\n",
        "plt.axis(True)\n",
        "# Hide grid lines\n",
        "ax1.grid(True)\n",
        "ax1.set_xlim(xmin=-40, xmax=40)\n",
        "ax1.set_ylim(ymin=-40, ymax=40)\n",
        "ax1.set_zlim(zmin=-40, zmax=40)\n",
        "# Hide axes ticks\n",
        "ax1.set_xticks([0])\n",
        "ax1.set_yticks([0])\n",
        "ax1.set_zticks([0])\n",
        "ax1.set_title(\"Our method\",pad=.5)\n",
        "\n",
        "ax1.legend(\"\")\n",
        "#plt.suptitle(\"3D-tSNE Visualization of Latent Space\")\n",
        "\n",
        "ax2 = fig.add_subplot(1, 2, 2, projection='3d',computed_zorder=False)\n",
        "\n",
        "func_full=   ax2.scatter(yang_X3_embedded_func   [:,0], yang_X3_embedded_func[:,1], yang_X3_embedded_func[:,2],  marker='o',c='lightcoral'   ,alpha=0.5 ,s=10 )\n",
        "area_full=   ax2.scatter(yang_X3_embedded_area   [:,0], yang_X3_embedded_area[:,1], yang_X3_embedded_area[:,2],   marker='^',c='cornflowerblue' ,alpha=0.5 ,s=10 )\n",
        "thick_full=  ax2.scatter(yang_X3_embedded_thick[:,0],yang_X3_embedded_thick[:,1],yang_X3_embedded_thick[:,2],   marker='p',c='seagreen',alpha=0.5 ,s=10   )\n",
        "\n",
        "#plt.axis(True)\n",
        "# Hide grid lines\n",
        "ax2.grid(True)\n",
        "ax2.set_xlim(xmin=-20, xmax=20)\n",
        "ax2.set_ylim(ymin=-20, ymax=20)\n",
        "ax2.set_zlim(zmin=-20, zmax=20)\n",
        "\n",
        "# Hide axes ticks\n",
        "ax2.set_xticks([0])\n",
        "ax2.set_yticks([0])\n",
        "ax2.set_zticks([0])\n",
        "ax2.set_title(\"Yang et al. (2021)\",pad=.5)\n",
        "ax2.legend(\"\")\n",
        "\n",
        "\n",
        "fig.legend(loc='lower center', bbox_to_anchor=(+.5, -0.05),\n",
        "          fancybox=True, shadow=True, ncol=3,frameon=True)\n",
        "plt.show()\n"
      ]
    },
    {
      "cell_type": "code",
      "execution_count": null,
      "metadata": {
        "id": "RSOxShZcyelL"
      },
      "outputs": [],
      "source": [
        "from matplotlib.pyplot import plot, savefig\n",
        "\n",
        "fig = plt.figure(figsize=(6,6), dpi= 100,constrained_layout=True)\n",
        "ax = fig.add_subplot(1, 1, 1, projection='3d')\n",
        "ax.xaxis.pane.fill = False\n",
        "ax.yaxis.pane.fill = False\n",
        "ax.zaxis.pane.fill = False\n",
        "\n",
        "# Now set color to white (or whatever is \"invisible\")\n",
        "ax.xaxis.pane.set_edgecolor('w')\n",
        "ax.yaxis.pane.set_edgecolor('w')\n",
        "ax.zaxis.pane.set_edgecolor('w')\n",
        "func_full= ax.scatter(X3_embedded_func   [:,0], X3_embedded_func[:,1], X3_embedded_func[:,2],  marker='o',c='lightcoral'   ,alpha=1 ,s=20  ,label=\"Functional Connectivity\")\n",
        "area_full= ax.scatter(X3_embedded_area   [:,0], X3_embedded_area[:,1], X3_embedded_area[:,2],   marker='^',c='cornflowerblue' ,alpha=1 ,s=20  ,label=\"Cortical Surface Area\")\n",
        "thick_full=  ax.scatter(X3_embedded_thick[:,0],X3_embedded_thick[:,1],X3_embedded_thick[:,2],   marker='1',c='seagreen',alpha=1 ,s=20,label=\"Cortical Thickness\")\n",
        "\n",
        "plt.axis(True)\n",
        "# Hide grid lines\n",
        "ax.grid(True)\n",
        "ax.set_xlim(xmin=-40, xmax=40)\n",
        "ax.set_ylim(ymin=-40, ymax=40)\n",
        "ax.set_zlim(zmin=-40, zmax=40)\n",
        "# Hide axes ticks\n",
        "ax.set_xticks([0])\n",
        "ax.set_yticks([0])\n",
        "ax.set_zticks([0])\n",
        "plt.savefig('/content/drive/My Drive/BA/demo.png', transparent=True)"
      ]
    },
    {
      "cell_type": "code",
      "execution_count": null,
      "metadata": {
        "id": "VpXJ6Y3vxAz0"
      },
      "outputs": [],
      "source": [
        "fig = plt.figure(figsize=(10,4.5), dpi= 120,constrained_layout=True)\n",
        "ax = fig.add_subplot(1, 3, 1, projection='3d')\n",
        "ax.scatter(X3_embedded_func [:,0], X3_embedded_func[:,1], X3_embedded_func[:,2],  linestyle='None',  marker='o',c=\"red\",s=20 ,label=\"Functional Connectivity\")\n",
        "\n",
        "ax.set_xticks([])\n",
        "ax.set_yticks([])\n",
        "ax.set_zticks([])\n",
        "\n",
        "\n",
        "\n",
        "\n",
        "ax=fig.add_subplot(1, 3, 2, projection='3d')\n",
        "ax.scatter(X3_embedded_area [:,0], X3_embedded_area[:,1], X3_embedded_area[:,2],   marker='^',  linestyle='None', c=\"darkblue\",s=20 )\n",
        "ax.set_xticks([])\n",
        "ax.set_yticks([])\n",
        "ax.set_zticks([])\n",
        "\n",
        "\n",
        "ax=fig.add_subplot(1, 3, 3, projection='3d')\n",
        "ax.scatter(X3_embedded_thick[:,0],X3_embedded_thick[:,1],X3_embedded_thick[:,2],   marker='1',  linestyle='None', c=\"green\",s=20)\n",
        "ax.set_xticks([])\n",
        "ax.set_yticks([])\n",
        "ax.set_zticks([])\n",
        "\n",
        "\n",
        "plt.legend()\n",
        "plt.show()"
      ]
    },
    {
      "cell_type": "code",
      "execution_count": null,
      "metadata": {
        "id": "Cx7bnNiEZDQZ"
      },
      "outputs": [],
      "source": [
        "fig = plt.figure(figsize=(10,4.5), dpi= 300,constrained_layout=True)\n",
        "ax = fig.add_subplot(1, 3, 1, projection='3d')\n",
        "ax.scatter(X3_embedded_func [:,0], X3_embedded_func[:,1], X3_embedded_func[:,2],  linestyle='None',  marker='o',c=kmeans_func.labels_,s=50 ,cmap='viridis' ,label=\"Functional Connectivity\")\n",
        "\n",
        "ax.set_xticks([0])\n",
        "ax.set_yticks([0])\n",
        "ax.set_zticks([0])\n",
        "\n",
        "\n",
        "\n",
        "plt.title(\"Latent tSNE-Representation, FC\")\n",
        "\n",
        "ax=fig.add_subplot(1, 3, 2, projection='3d')\n",
        "ax.scatter(X3_embedded_area [:,0], X3_embedded_area[:,1], X3_embedded_area[:,2],   marker='^',  linestyle='None', c=kmeans_area.labels_,s=50 ,cmap='viridis')\n",
        "ax.set_xticks([0])\n",
        "ax.set_yticks([0])\n",
        "ax.set_zticks([0])\n",
        "plt.title(\"Latent tSNE-Representation, CT\")\n",
        "\n",
        "\n",
        "ax=fig.add_subplot(1, 3, 3, projection='3d')\n",
        "ax.scatter(X3_embedded_thick[:,0],X3_embedded_thick[:,1],X3_embedded_thick[:,2],   marker='1',  linestyle='None', c=kmeans_thick.labels_,s=50,cmap='viridis')\n",
        "ax.set_xticks([0])\n",
        "ax.set_yticks([0])\n",
        "ax.set_zticks([0])\n",
        "plt.title(\"Latent tSNE-Representation, CSA\")\n",
        "\n",
        "\n",
        "\n",
        "plt.suptitle(\"Latent Representation of Functional Connectivity (z=256) in 3 component TSNE\")\n",
        "plt.legend()\n",
        "plt.show()"
      ]
    },
    {
      "cell_type": "code",
      "execution_count": null,
      "metadata": {
        "id": "97j0B0nfuuo0"
      },
      "outputs": [],
      "source": [
        "fig = plt.figure(figsize=(10,5), dpi= 300,constrained_layout=True)\n",
        "ax = fig.add_subplot(1, 1, 1, projection='3d')\n",
        "\n",
        "ax.scatter(X3_embedded_area [np.where(kmeans_area.labels_==0),0], X3_embedded_area[np.where(kmeans_area.labels_==0),1], X3_embedded_area[np.where(kmeans_area.labels_==0),2],   marker='^',  linestyle='None',    c=pheno2.iloc[:,7].iloc[np.where((kmeans_area.labels_==0))],vmin=np.min(pheno2.iloc[:,7]),vmax=np.max(pheno2.iloc[:,7]),s=50 ,cmap='coolwarm')\n",
        "ax.scatter(X3_embedded_area [np.where(kmeans_area.labels_==1),0], X3_embedded_area[np.where(kmeans_area.labels_==1),1], X3_embedded_area[np.where(kmeans_area.labels_==1),2],   marker='1',  linestyle='None',    c=pheno2.iloc[:,7].iloc[np.where((kmeans_area.labels_==1))],vmin=np.min(pheno2.iloc[:,7]),vmax=np.max(pheno2.iloc[:,7]),s=50 ,cmap='coolwarm')\n",
        "ax.scatter(X3_embedded_area [np.where(kmeans_area.labels_==2),0], X3_embedded_area[np.where(kmeans_area.labels_==2),1], X3_embedded_area[np.where(kmeans_area.labels_==2),2],   marker='2',  linestyle='None',    c=pheno2.iloc[:,7].iloc[np.where((kmeans_area.labels_==2))],vmin=np.min(pheno2.iloc[:,7]),vmax=np.max(pheno2.iloc[:,7]),s=50 ,cmap='coolwarm')\n",
        "im=ax.scatter(X3_embedded_area [np.where(kmeans_area.labels_==3),0], X3_embedded_area[np.where(kmeans_area.labels_==3),1], X3_embedded_area[np.where(kmeans_area.labels_==3),2],   marker='x',  linestyle='None', c=pheno2.iloc[:,7].iloc[np.where((kmeans_area.labels_==3))],vmin=np.min(pheno2.iloc[:,7]),vmax=np.max(pheno2.iloc[:,7]),s=50 ,cmap='coolwarm')\n",
        "ax.set_xticks([0])\n",
        "ax.set_yticks([0])\n",
        "ax.set_zticks([0])\n",
        "plt.title(\"Latent tSNE-Representation, CT\")\n",
        "fig.colorbar(im,ax=ax)"
      ]
    },
    {
      "cell_type": "code",
      "execution_count": null,
      "metadata": {
        "id": "qcmfiZNrz900"
      },
      "outputs": [],
      "source": [
        "X2_embedded =  TSNE (n_components=2, learning_rate='auto',init='pca', perplexity=30,random_state=0).fit_transform(np.concatenate((func_latent_ful.detach().cpu().numpy(),area_latent_ful.detach().cpu().numpy(),thick_latent_ful.detach().cpu().numpy())))\n",
        "X2_embedded_func = X2_embedded[:func_latent_ful.shape[0],:]\n",
        "X2_embedded_area = X2_embedded[func_latent_ful.shape[0]:(func_latent_ful.shape[0]*2),:]\n",
        "X2_embedded_thick = X2_embedded[(func_latent_ful.shape[0]*2):(func_latent_ful.shape[0]*3),:]\n"
      ]
    },
    {
      "cell_type": "code",
      "execution_count": null,
      "metadata": {
        "id": "SPrYWwcJz7b_"
      },
      "outputs": [],
      "source": [
        "ax = plt.figure().add_subplot()\n",
        "\n",
        "ax.scatter(X2_embedded_area [np.where(kmeans_area.labels_==0),0], X2_embedded_area[np.where(kmeans_area.labels_==0),1],  marker='^',  linestyle='None',    c=pheno2.iloc[:,3].iloc[np.where((kmeans_area.labels_==0))],vmin=np.min(pheno2.iloc[:,3]),vmax=np.max(pheno2.iloc[:,3]),s=50 ,cmap='coolwarm')\n",
        "ax.scatter(X2_embedded_area [np.where(kmeans_area.labels_==1),0], X2_embedded_area[np.where(kmeans_area.labels_==1),1],  marker='1',  linestyle='None',    c=pheno2.iloc[:,3].iloc[np.where((kmeans_area.labels_==1))],vmin=np.min(pheno2.iloc[:,3]),vmax=np.max(pheno2.iloc[:,3]),s=50 ,cmap='coolwarm')\n",
        "ax.scatter(X2_embedded_area [np.where(kmeans_area.labels_==2),0], X2_embedded_area[np.where(kmeans_area.labels_==2),1],  marker='2',  linestyle='None',    c=pheno2.iloc[:,3].iloc[np.where((kmeans_area.labels_==2))],vmin=np.min(pheno2.iloc[:,3]),vmax=np.max(pheno2.iloc[:,3]),s=50 ,cmap='coolwarm')\n",
        "im=ax.scatter(X2_embedded_area [np.where(kmeans_area.labels_==3),0], X2_embedded_area[np.where(kmeans_area.labels_==3),1] , marker='x',  linestyle='None', c=pheno2.iloc[:,3].iloc[np.where((kmeans_area.labels_==3))],vmin=np.min(pheno2.iloc[:,3]),vmax=np.max(pheno2.iloc[:,3]),s=50 ,cmap='coolwarm')\n",
        "ax.set_xticks([])\n",
        "ax.set_yticks([])\n",
        "\n",
        "plt.title(\"Latent Representations of Cortical Thickness, Clusters and Gender (Blue: Male)\")\n",
        "\n",
        "\n"
      ]
    },
    {
      "cell_type": "markdown",
      "metadata": {
        "id": "Cw0BNHz4mf3D"
      },
      "source": [
        "## Functional Reconstruction Visualization"
      ]
    },
    {
      "cell_type": "code",
      "execution_count": null,
      "metadata": {
        "id": "Bu3XTU3JwqJ_"
      },
      "outputs": [],
      "source": [
        "def recon_matrix(X):\n",
        "  X1=np.zeros((97,97))\n",
        "  X1[np.triu_indices(97,k=1)]=X\n",
        "  X1 = X1 + X1.T - np.diag(np.diag(X1))\n",
        "  np.fill_diagonal(X1,np.max(X1))\n",
        "  return X1\n",
        "\n",
        "\n",
        "fig, ax = plt.subplots(2, 4, figsize=(10, 5),dpi=300,constrained_layout=True)\n",
        "t=14\n",
        "#fig.suptitle(\"Original, Reconstructed and Crossmodal-reconstructed Functional Connectivity\")\n",
        "for i in range(t,t+2):\n",
        "  print(i)\n",
        "  test_func=model_func.cpu().decode(func_latents.cpu())[i]\n",
        "  area_to_func=model_func.cpu().decode(area_latents.cpu())[i]\n",
        "  thick_to_func=model_func.cpu().decode(thick_latents.cpu())[i]\n",
        "\n",
        "  original=recon_matrix(func_inputs[i].cpu().detach())\n",
        "  recon=  recon_matrix(test_func.cpu().detach())\n",
        "  area_recon=  recon_matrix(area_to_func.cpu().detach())\n",
        "  thick_recon=  recon_matrix(thick_to_func.cpu().detach())\n",
        "\n",
        "  sns.heatmap   (original,cmap='viridis', vmin=-4, vmax=4,ax= ax[i-t,0], annot=False,xticklabels=False, yticklabels=False)\n",
        "  sns.heatmap      (recon,cmap='viridis', vmin=-4, vmax=4,ax= ax[i-t,1], annot=False,xticklabels=False, yticklabels=False)\n",
        "  sns.heatmap (area_recon,cmap='viridis', vmin=-4, vmax=4,ax= ax[i-t,2], annot=False,xticklabels=False, yticklabels=False)\n",
        "  sns.heatmap(thick_recon,cmap='viridis', vmin=-4, vmax=4,ax= ax[i-t,3], annot=False,xticklabels=False, yticklabels=False)\n",
        "  ax[i-t,0].title.set_text('Original '+ str(i-t+1))\n",
        "  ax[i-t,1].title.set_text('Reconstruction '+ str(i-t+1))\n",
        "  ax[i-t,2].title.set_text('Reconstruction from CT '+ str(i-t+1))\n",
        "  ax[i-t,3].title.set_text('Reconstruction from CSA '+ str(i-t+1))\n",
        "\n",
        "\n",
        "plt.show()"
      ]
    },
    {
      "cell_type": "markdown",
      "metadata": {
        "id": "IZC_iG5vpkEz"
      },
      "source": [
        "# Group differences and Testing"
      ]
    },
    {
      "cell_type": "code",
      "execution_count": null,
      "metadata": {
        "id": "TviRx_sEZgHj"
      },
      "outputs": [],
      "source": [
        "fig, ax = plt.subplots(3,4, figsize=(12, 6.75),dpi=300, constrained_layout=True)\n",
        "list_names=[\"ADR-I Social\",\"ADI_I Verbal\", \"ADR_I RRB\"]\n",
        "list_v=[\"ADR Social\",\"ADI Verbal\", \"ADR RRB\"]\n",
        "list_names2=[\"Diagnosis Group\",\"Age\",\"Gender\"]\n",
        "for j in range(3):\n",
        "  interim_list=[0,2,3]\n",
        "  for i in range(4):\n",
        "    ax[j,0]=sns.distplot(pheno2.iloc[:,interim_list[j]].iloc[np.where((kmeans_func.labels_==i))], ax=ax[j,0],hist=False, rug=True)\n",
        "    ax[j,0].set_title(list_names2[j]+\" (Full Sample)\")\n",
        "    ax[j,0].set_xlabel(list_names2[j])\n",
        "for j in range(3):\n",
        "  for i in range(4):\n",
        "    ax[j,1]=sns.distplot(pheno2.iloc[:,6+j].iloc[np.where((kmeans_func.labels_==i))], ax=ax[j,1],hist=False, rug=True)\n",
        "    ax[j,1].set_title(pheno2.columns[6+j] +\" (Full Sample)\")\n",
        "for j in range(3):\n",
        "  for i in range(4):\n",
        "    ax[j,2]=sns.distplot(pheno2.iloc[:,6+j].iloc[np.where((kmeans_func.labels_==i) &(pheno2.iloc[:,0]==1))], ax=ax[j,2],hist=False, rug=True)\n",
        "    ax[j,2].set_title(pheno2.columns[6+j]+\" (ASD)\")\n",
        "for j in range(3):\n",
        "  for i in range(4):\n",
        "    ax[j,3]=sns.distplot(pheno2.iloc[:,9+j].iloc[np.where((kmeans_func.labels_==i) &(pheno2.iloc[:,0]==1))], ax=ax[j,3],hist=False, rug=True)\n",
        "    ax[j,3].set_title(list_names[j])\n",
        "    ax[j,3].set_xlabel(list_v[j])\n",
        "fig.suptitle(\"Density Plots of Clusters identified in FC Representation for Phenotypic Data\")\n"
      ]
    },
    {
      "cell_type": "code",
      "execution_count": null,
      "metadata": {
        "id": "DPOuuIKdg_8F"
      },
      "outputs": [],
      "source": [
        "pheno_cont_names = ['AGE_AT_SCAN', 'FIQ',   'VIQ', 'PIQ']\n",
        "pheno_cat_names = ['SEX', 'HANDEDNESS_CATEGORY', 'DX_GROUP']\n",
        "[(pheno_cont_names+pheno_cat_names)]"
      ]
    },
    {
      "cell_type": "code",
      "execution_count": null,
      "metadata": {
        "id": "vEoe_SVMhNb7"
      },
      "outputs": [],
      "source": [
        "pheno2['AGE_AT_SCAN'].iloc[np.where((labels==0))]"
      ]
    },
    {
      "cell_type": "code",
      "execution_count": null,
      "metadata": {
        "id": "t8ldi3Evhth4"
      },
      "outputs": [],
      "source": [
        "n_clus=5\n",
        "pheno_cont_names = ['AGE_AT_SCAN', 'FIQ',   'VIQ', 'PIQ']\n",
        "pheno_cat_names = ['SEX', 'HANDEDNESS_CATEGORY', 'DX_GROUP']\n",
        "\n",
        "def split (data,pheno,labels):\n",
        "  a=data[pheno].iloc[np.where((labels==0))]\n",
        "  b=data[pheno].iloc[np.where((labels==1))]\n",
        "  c=data[pheno].iloc[np.where((labels==2))]\n",
        "  d=data[pheno].iloc[np.where((labels==3))]\n",
        "  e=data[pheno].iloc[np.where((labels==4))]\n",
        "  return [a,b,c,d,e]\n",
        "\n",
        "p_val_adj=np.zeros((3,4))\n",
        "p_val_flat=np.zeros((3,4))\n",
        "statistic=np.zeros((3,4))\n",
        "for mod in range(3):\n",
        "  if mod ==0:\n",
        "    labels=kmeans_func.labels_\n",
        "  if mod ==1:\n",
        "    labels=kmeans_area.labels_\n",
        "  if mod ==2:\n",
        "    labels=kmeans_thick.labels_\n",
        "  for n,k in enumerate(pheno_cont_names):\n",
        "    statistic[mod,n]=stats.anderson_ksamp(split(pheno2,k,labels))[0]\n",
        "    p_val_flat[mod,n]=stats.anderson_ksamp(split(pheno2,k,labels))[2]\n",
        "p_val_adj=stats.false_discovery_control(p_val_flat.flatten())\n",
        "print(p_val_adj,statistic)"
      ]
    },
    {
      "cell_type": "code",
      "execution_count": null,
      "metadata": {
        "id": "QM2MtURT3ENQ"
      },
      "outputs": [],
      "source": [
        "pheno_cat_names"
      ]
    },
    {
      "cell_type": "code",
      "execution_count": null,
      "metadata": {
        "id": "6jeiHUBkg-Tw"
      },
      "outputs": [],
      "source": [
        "\n",
        "p_val_adj=np.zeros((3,3))\n",
        "p_val_flat=np.zeros((3,3))\n",
        "statistic=np.zeros((3,3))\n",
        "for mod in range(3):\n",
        "  if mod ==0:\n",
        "    labels=kmeans_func.labels_\n",
        "  if mod ==1:\n",
        "    labels=kmeans_area.labels_\n",
        "  if mod ==2:\n",
        "    labels=kmeans_thick.labels_\n",
        "  for n,k in enumerate(pheno_cat_names):\n",
        "    cross=pd.crosstab(labels,[pheno2[k]])\n",
        "    #print(k,stats.chi2_contingency(cross))\n",
        "    p_val_flat[mod,n]=(stats.chi2_contingency(cross)[1])\n",
        "    statistic[mod,n]=(stats.chi2_contingency(cross)[0])\n",
        "    print(k,stats.chi2_contingency(cross))\n",
        "p_val_adj=stats.false_discovery_control(p_val_flat.flatten())\n",
        "\n",
        "print(p_val_adj,statistic)\n",
        "\n"
      ]
    },
    {
      "cell_type": "code",
      "execution_count": null,
      "metadata": {
        "id": "Gus5ddU_gzUB"
      },
      "outputs": [],
      "source": [
        "n_clus=5\n",
        "pheno_cont_names = ['AGE_AT_SCAN', 'FIQ',   'VIQ', 'PIQ']\n",
        "pheno_cat_names = ['SEX', 'HANDEDNESS_CATEGORY', 'DX_GROUP']\n",
        "#Func\n",
        "def recon_matrix(X):\n",
        "  X1=np.zeros((n_clus,n_clus))\n",
        "  X1[np.triu_indices(n_clus,k=1)]=X\n",
        "  X1 = X1 + X1.T - np.diag(np.diag(X1))\n",
        "  np.fill_diagonal(X1,1)\n",
        "  return X1\n",
        "\n",
        "\n",
        "p_val=np.zeros    ((3,7,n_clus,n_clus))\n",
        "test_s=np.zeros    ((3,7,n_clus,n_clus))\n",
        "p_val_adj=np.zeros((3,7,n_clus,n_clus))\n",
        "p_val_flat=np.zeros((3,7,10))\n",
        "for mod in range(3):\n",
        "  if mod ==0:\n",
        "    labels=kmeans_func.labels_\n",
        "  if mod ==1:\n",
        "    labels=kmeans_area.labels_\n",
        "  if mod ==2:\n",
        "    labels=kmeans_thick.labels_\n",
        "  for n,k in enumerate(pheno_cont_names+pheno_cat_names):\n",
        "    for i in range(n_clus):\n",
        "      for j in range(n_clus):\n",
        "\n",
        "        p_val[mod,n,i,j]=stats.ks_2samp(pheno2[k].iloc[np.where((labels==i) )],\n",
        "                                    pheno2[k].iloc[np.where((labels==j) )])[1]\n",
        "        test_s[mod,n,i,j]=stats.ks_2samp(pheno2[k].iloc[np.where((labels==i) )],\n",
        "                                    pheno2[k].iloc[np.where((labels==j) )])[0]\n",
        "\n",
        "    p_val_flat[mod,n,:]=p_val[mod,n,:][np.triu_indices(n_clus,k=1)]\n",
        "\n",
        "  test_adjusted=stats.false_discovery_control(p_val_flat[mod,:])\n",
        "\n",
        "  for k in range(7):\n",
        "    p_val_adj[mod,k,:]=recon_matrix(test_adjusted[k,:])\n",
        "\n",
        "for mod in range(3):\n",
        "  for idx,i in enumerate(p_val_adj[mod,:]):\n",
        "    check=False\n",
        "    for k in i.flatten():\n",
        "      if k<=0.05 :\n",
        "        check=True\n",
        "\n",
        "    if check==True:\n",
        "      print(mod,(pheno_cont_names+pheno_cat_names)[idx],idx)\n",
        "      #print(mod,p_val_adj[mod,idx,:],test_s[mod,idx],(pheno_cont_names+pheno_cat_names)[idx],idx)\n",
        "\n"
      ]
    },
    {
      "cell_type": "code",
      "execution_count": null,
      "metadata": {
        "id": "f5Tt8ThbxY91"
      },
      "outputs": [],
      "source": [
        "n_clus=5\n",
        "pheno_cont_names = ['AGE_AT_SCAN', 'FIQ',   'VIQ', 'PIQ']\n",
        "pheno_cat_names = ['SEX', 'HANDEDNESS_CATEGORY', 'DX_GROUP']\n",
        "#Func\n",
        "def recon_matrix(X):\n",
        "  X1=np.zeros((n_clus,n_clus))\n",
        "  X1[np.triu_indices(n_clus,k=1)]=X\n",
        "  X1 = X1 + X1.T - np.diag(np.diag(X1))\n",
        "  np.fill_diagonal(X1,1)\n",
        "  return X1\n",
        "\n",
        "\n",
        "p_val=np.zeros    ((3,7,n_clus,n_clus))\n",
        "test_s=np.zeros    ((3,7,n_clus,n_clus))\n",
        "p_val_adj=np.zeros((3,7,n_clus,n_clus))\n",
        "p_val_flat=np.zeros((3,7,10))\n",
        "for mod in range(3):\n",
        "  if mod ==0:\n",
        "    labels=kmeans_func.labels_\n",
        "  if mod ==1:\n",
        "    labels=kmeans_area.labels_\n",
        "  if mod ==2:\n",
        "    labels=kmeans_thick.labels_\n",
        "  for n,k in enumerate(pheno_cont_names+pheno_cat_names):\n",
        "    for i in range(n_clus):\n",
        "      for j in range(n_clus):\n",
        "\n",
        "        p_val[mod,n,i,j]=stats.ks_2samp(pheno2[k].iloc[np.where((labels==i) )],\n",
        "                                    pheno2[k].iloc[np.where((labels==j) )])[1]\n",
        "        test_s[mod,n,i,j]=stats.ks_2samp(pheno2[k].iloc[np.where((labels==i) )],\n",
        "                                    pheno2[k].iloc[np.where((labels==j) )])[0]\n",
        "\n",
        "    p_val_flat[mod,n,:]=p_val[mod,n,:][np.triu_indices(n_clus,k=1)]\n",
        "\n",
        "  test_adjusted=stats.false_discovery_control(p_val_flat[mod,:])\n",
        "\n",
        "  for k in range(7):\n",
        "    p_val_adj[mod,k,:]=recon_matrix(test_adjusted[k,:])\n",
        "\n",
        "for mod in range(3):\n",
        "  for idx,i in enumerate(p_val_adj[mod,:]):\n",
        "    check=False\n",
        "    for k in i.flatten():\n",
        "      if k<=0.05 :\n",
        "        check=True\n",
        "\n",
        "    if check==True:\n",
        "      print(mod,(pheno_cont_names+pheno_cat_names)[idx],idx)\n",
        "      #print(mod,p_val_adj[mod,idx,:],test_s[mod,idx],(pheno_cont_names+pheno_cat_names)[idx],idx)\n",
        "\n"
      ]
    },
    {
      "cell_type": "markdown",
      "metadata": {
        "id": "xJQEIY7Sy8ky"
      },
      "source": [
        "## RDMs & RSA"
      ]
    },
    {
      "cell_type": "code",
      "execution_count": null,
      "metadata": {
        "id": "a0Y3MC9JmafG"
      },
      "outputs": [],
      "source": [
        "def get_pheno_rdm(pheno_var, is_cat=False):\n",
        "\n",
        "  diff_mat = np.zeros((len(pheno_var), len(pheno_var)))\n",
        "  min_val = min(pheno_var.flatten())\n",
        "  max_val = max(pheno_var.flatten())\n",
        "\n",
        "\n",
        "  pheno_var = (pheno_var - min_val) / (max_val - min_val)\n",
        "  for i, pheno in enumerate(pheno_var):\n",
        "      diff_mat[i] = np.abs(pheno_var - pheno)\n",
        "      if is_cat:\n",
        "          diff_mat[i] = np.where(diff_mat[i] != 0, 1, 0)\n",
        "\n",
        "  diff_mat[np.isnan(diff_mat)] = 0\n",
        "  np.fill_diagonal(diff_mat, 0)\n",
        "  return spatial.distance.squareform(diff_mat)#spatial.distance.squareform\n",
        "\n",
        "def get_latent_rdm(lat_vec):\n",
        "    dist = spatial.distance.pdist(lat_vec, metric='euclidean')\n",
        "    #print('dist', dist.shape)\n",
        "    return dist # spatial.distance.squareform(dist)\n",
        "\n",
        "def get_corr(lat_vec, pheno_var, is_cat):\n",
        "    pheno_rdm = get_pheno_rdm(pheno_var, is_cat=is_cat)\n",
        "    lat_rdm = get_latent_rdm(lat_vec)\n",
        "    # print(pheno_rdm.shape, lat_rdm.shape)\n",
        "    tau, p_tau = kendalltau(pheno_rdm, lat_rdm)\n",
        "    return tau, p_tau\n",
        "\n",
        "def statistic(x,y):\n",
        "  stat=kendalltau(x,y)[0]\n",
        "  return stat\n"
      ]
    },
    {
      "cell_type": "code",
      "execution_count": null,
      "metadata": {
        "id": "C35RTe-fz1u8"
      },
      "outputs": [],
      "source": [
        "pheno_cont_names = ['AGE_AT_SCAN', 'FIQ',   'VIQ', 'PIQ']\n",
        "pheno_cat_names = ['SEX', 'HANDEDNESS_CATEGORY', 'DX_GROUP']\n",
        "\n",
        "taus, ps_tau = np.zeros((3, len(pheno_cat_names)+len(pheno_cont_names))), np.zeros((3, len(pheno_cat_names)+len(pheno_cont_names)))\n",
        "rs, ps_r = np.zeros((3, len(pheno_cat_names)+len(pheno_cont_names))), np.zeros((3, len(pheno_cat_names)+len(pheno_cont_names)))\n",
        "perm_stat=np.zeros((3, len(pheno_cat_names)+len(pheno_cont_names)))\n",
        "\n",
        "\n",
        "perm_num = 1000\n",
        "perm_stat           = np.zeros((3, len(pheno_cat_names)+len(pheno_cont_names)))\n",
        "perm_pvalue         = np.zeros((3, len(pheno_cat_names)+len(pheno_cont_names)))\n",
        "perm_dist           = np.zeros((3, len(pheno_cat_names)+len(pheno_cont_names),perm_num))\n"
      ]
    },
    {
      "cell_type": "code",
      "execution_count": null,
      "metadata": {
        "id": "gPji5OFSUBYW"
      },
      "outputs": [],
      "source": [
        "TableOne(pheno2.iloc[np.where(pheno2.iloc[:,0]==2)].iloc[:,:8], dip_test=True, normal_test=True, tukey_test=True)"
      ]
    },
    {
      "cell_type": "code",
      "execution_count": null,
      "metadata": {
        "id": "y7xh4eUxTU40"
      },
      "outputs": [],
      "source": [
        "for i in (pheno_cont_names+pheno_cat_names):\n",
        "  print(i)\n",
        "  print (TableOne(pheno2.iloc[np.where(pheno2.iloc[:,0]==1)][i], dip_test=False, normal_test=False, tukey_test=False))\n"
      ]
    },
    {
      "cell_type": "code",
      "execution_count": null,
      "metadata": {
        "id": "SUG0Hw9sz6a_"
      },
      "outputs": [],
      "source": [
        "for i, lat_vec in enumerate([area_latent_ful.detach().numpy(), thick_latent_ful.detach().numpy(), func_latent_ful.detach().numpy()]):\n",
        "    lat_rdm = get_latent_rdm(lat_vec)\n",
        "    for j, pname in enumerate(pheno_cont_names):\n",
        "        print(pname)\n",
        "        tau, p_tau = get_corr(lat_vec, np.array(pheno2[pname]), is_cat=False)\n",
        "        taus[i, j]= tau; ps_tau[i, j]= p_tau\n",
        "\n",
        "        pheno_rdm = get_pheno_rdm(np.array(pheno2[pname]), is_cat=False)\n",
        "\n",
        "        # permutation test\n",
        "        perm_res= permutation_test((pheno_rdm,lat_rdm), statistic,\n",
        "                 n_resamples=perm_num, alternative='two-sided',permutation_type='pairings')\n",
        "        perm_stat[i,j]=perm_res.statistic\n",
        "        perm_pvalue[i,j]=perm_res.pvalue\n",
        "        perm_dist[i,j]=perm_res.null_distribution\n",
        "    for j, pname in enumerate(pheno_cat_names):\n",
        "        print(pname)\n",
        "        tau, p_tau = get_corr(lat_vec, np.array(pheno2[pname]), is_cat=True)\n",
        "        taus[i, j+len(pheno_cont_names)]= tau; ps_tau[i, j+len(pheno_cont_names)]= p_tau\n",
        "\n",
        "        pheno_rdm = get_pheno_rdm(np.array(pheno2[pname]), is_cat=True)\n",
        "        # permutation test\n",
        "        perm_res= permutation_test((pheno_rdm,lat_rdm), statistic,\n",
        "                 n_resamples=perm_num, alternative='two-sided',permutation_type='pairings')\n",
        "        perm_stat[i,j+len(pheno_cont_names)]=perm_res.statistic\n",
        "        perm_pvalue[i,j+len(pheno_cont_names)]=perm_res.pvalue\n",
        "        perm_dist[i,j+len(pheno_cont_names)]=perm_res.null_distribution\n",
        "\n"
      ]
    },
    {
      "cell_type": "code",
      "execution_count": null,
      "metadata": {
        "id": "JGAKkw5a6fbv"
      },
      "outputs": [],
      "source": [
        "perm_pvalue\n",
        "test_adjusted=stats.false_discovery_control(perm_pvalue.flatten())"
      ]
    },
    {
      "cell_type": "code",
      "execution_count": null,
      "metadata": {
        "id": "WlVo8tCo66OR"
      },
      "outputs": [],
      "source": [
        "perm_pvalue"
      ]
    },
    {
      "cell_type": "code",
      "execution_count": null,
      "metadata": {
        "id": "hrMM_OuX6qFW"
      },
      "outputs": [],
      "source": [
        "test_adjusted,np.round(perm_stat,3)"
      ]
    },
    {
      "cell_type": "code",
      "execution_count": null,
      "metadata": {
        "id": "lWMMEkFt2ESc"
      },
      "outputs": [],
      "source": [
        "def plot_dens(i,j,perm_dist,perm_stat,name):\n",
        "  colors = ['seagreen', 'cornflowerblue', 'lightcoral']\n",
        "  ax[i,j].hist(perm_dist,bins=25,density=True, color='black',alpha=.8,fill =False, linewidth=1, label='Density Histogram')\n",
        "\n",
        "  # Make the normal distribution fit the data:\n",
        "  mu, std = norm.fit (perm_dist) # mean and standard deviation\n",
        "  xmin, xmax = ax[i,j].get_xlim()\n",
        "  x = np.linspace(xmin*1.5, xmax*1.5, 100)\n",
        "  p = norm.pdf(x, mu, std)\n",
        "\n",
        "  ax[i,j].plot(x, p, 'k', linewidth=2,color='lightblue', label='Density Plot')\n",
        "  ax[i,j].vlines(perm_stat,ymin=0,ymax=400,color='red', label='Empirical Tau')\n",
        "\n",
        "  section = np.linspace(mu- std * 1.96, mu+ std * 1.96,num=len(p[np.where(np.logical_and(x>=mu- std * 1.96, x<=mu+ std * 1.96))]))\n",
        "\n",
        "  ax[i,j].fill_between(section,0,p[np.where(np.logical_and(x>=mu- std * 1.96, x<=mu+ std * 1.96))],color=colors[i], alpha=.3, label='95% CI',hatch=\"//\",edgecolor=colors[i])\n",
        "  ax[i,j].plot(section,p[np.where(np.logical_and(x>=mu- std * 1.96, x<=mu+ std * 1.96))], linewidth=2,color=colors[i], alpha=.5)\n",
        "  minx=np.min(p[np.where(np.logical_and(x>=mu- std * 1.96, x<=mu+ std * 1.96))])\n",
        "\n",
        "  ax[i,j].vlines( x=mu- std * 1.96, ymin=0, ymax=minx, color=colors[i],  alpha=.5)\n",
        "  ax[i,j].vlines( x=mu+ std * 1.96, ymin=0, ymax=minx, color=colors[i],  alpha=.5)\n",
        "  ax[i,j]. set_xlabel('Kendall`s Tau')\n",
        "  if j==0:\n",
        "    ax[i,j]. set_ylabel('Density')\n",
        "  if i==0:\n",
        "    ax[i,j].title.set_text(name)\n",
        "  #ax[i,j].legend()"
      ]
    },
    {
      "cell_type": "code",
      "execution_count": null,
      "metadata": {
        "id": "Mw-1m_lJt9e2"
      },
      "outputs": [],
      "source": [
        "fig, ax = plt.subplots(3,(len(pheno_cont_names)+len(pheno_cat_names)),figsize=(18, 5), sharey=True, constrained_layout=True) #\n",
        "\n",
        "for i, lat_vec in enumerate([area_latent_ful.detach().numpy(), thick_latent_ful.detach().numpy(), func_latent_ful.detach().numpy()]):\n",
        "    lat_rdm = get_latent_rdm(lat_vec)\n",
        "    for j, pname in enumerate(pheno_cont_names):\n",
        "      plot_dens(i,j,perm_dist[i,j],perm_stat[i,j],pname)\n",
        "    for j, pname in enumerate(pheno_cat_names):\n",
        "      plot_dens(i,j+(len(pheno_cont_names)),perm_dist[i,j],perm_stat[i,j],pname)\n",
        "plt.suptitle('Permutation Testing of Tau ')\n",
        "handles, labels = ax[0,0].get_legend_handles_labels()\n",
        "leg=fig.legend(handles, labels, loc='lower center',frameon=True)\n",
        "leg.get_frame().set_edgecolor('b')"
      ]
    },
    {
      "cell_type": "code",
      "execution_count": null,
      "metadata": {
        "id": "FAPhm7cAsEXs"
      },
      "outputs": [],
      "source": [
        "boot_num = 50\n",
        "boot_ci             = np.zeros((3, len(pheno_cat_names)+len(pheno_cont_names),2))\n",
        "boot_stand_err      = np.zeros((3, len(pheno_cat_names)+len(pheno_cont_names)))\n",
        "boot_dist           = np.zeros((3, len(pheno_cat_names)+len(pheno_cont_names),boot_num))\n",
        "for i, lat_vec in enumerate([area_latent_ful.detach().numpy(), thick_latent_ful.detach().numpy(), func_latent_ful.detach().numpy()]):\n",
        "    lat_rdm = get_latent_rdm(lat_vec)\n",
        "    for j, pname in enumerate(pheno_cont_names):\n",
        "        print(pname)\n",
        "        pheno_rdm = get_pheno_rdm(np.array(pheno2[pname]), is_cat=False)\n",
        "\n",
        "                # bootstrap\n",
        "        boot_res=bootstrap((pheno_rdm,lat_rdm), statistic, n_resamples=boot_num,paired=True ,vectorized=False,batch=10,method='basic')\n",
        "        boot_ci[i,j] =boot_res.confidence_interval\n",
        "        boot_stand_err[i,j]= boot_res.standard_error\n",
        "        boot_dist[i,j] = boot_res.bootstrap_distribution\n",
        "\n",
        "    for j, pname in enumerate(pheno_cat_names):\n",
        "        pheno_rdm = get_pheno_rdm(np.array(pheno2[pname]), is_cat=True)\n",
        "               # bootstrap\n",
        "        boot_res=bootstrap((pheno_rdm,lat_rdm), statistic, n_resamples=boot_num,paired=True,vectorized=False,batch=10,method='basic')\n",
        "        boot_ci[i,j+len(pheno_cont_names)] =boot_res.confidence_interval\n",
        "        boot_stand_err[i,j+len(pheno_cont_names)]= boot_res.standard_error\n",
        "        boot_dist[i,j+len(pheno_cont_names)] = boot_res.bootstrap_distribution\n",
        "\n",
        "\n",
        "\n",
        "\n"
      ]
    },
    {
      "cell_type": "code",
      "execution_count": null,
      "metadata": {
        "id": "Qy0eLPCx03xd"
      },
      "outputs": [],
      "source": [
        "def plot_dens(i,boot_dist,boot_stand_err,name):\n",
        "  colors = ['seagreen', 'cornflowerblue', 'lightcoral']\n",
        "  bar=ax[i].bar(name,np.mean(boot_dist,axis=1),yerr=boot_stand_err*1.96,label='Barplot',color=colors[i])\n"
      ]
    },
    {
      "cell_type": "code",
      "execution_count": null,
      "metadata": {
        "id": "gSdvhjlz6xr3"
      },
      "outputs": [],
      "source": [
        "boot_dist_m=np.mean(boot_dist.reshape(21,50),axis=1)"
      ]
    },
    {
      "cell_type": "code",
      "execution_count": null,
      "metadata": {
        "id": "0ahGYz286GT9"
      },
      "outputs": [],
      "source": [
        "print(boot_dist_m.shape)"
      ]
    },
    {
      "cell_type": "code",
      "execution_count": null,
      "metadata": {
        "id": "k6g1BfCo5G_o"
      },
      "outputs": [],
      "source": [
        "print(boot_dist.reshape(21,50)[7:14,:10])"
      ]
    },
    {
      "cell_type": "code",
      "execution_count": null,
      "metadata": {
        "id": "hhfZAfe_JY3q"
      },
      "outputs": [],
      "source": [
        "from matplotlib import pyplot as plt\n",
        "\n",
        "\n",
        "def bar_plot(ax, data,boot_stand_err, colors=['seagreen', 'cornflowerblue', 'lightcoral'], total_width=0.8, single_width=1, legend=True):\n",
        "    \"\"\"Draws a bar plot with multiple bars per data point.\n",
        "\n",
        "    Parameters\n",
        "    ----------\n",
        "    ax : matplotlib.pyplot.axis\n",
        "        The axis we want to draw our plot on.\n",
        "\n",
        "    data: dictionary\n",
        "        A dictionary containing the data we want to plot. Keys are the names of the\n",
        "        data, the items is a list of the values.\n",
        "\n",
        "        Example:\n",
        "        data = {\n",
        "            \"x\":[1,2,3],\n",
        "            \"y\":[1,2,3],\n",
        "            \"z\":[1,2,3],\n",
        "        }\n",
        "\n",
        "    colors : array-like, optional\n",
        "        A list of colors which are used for the bars. If None, the colors\n",
        "        will be the standard matplotlib color cyle. (default: None)\n",
        "\n",
        "    total_width : float, optional, default: 0.8\n",
        "        The width of a bar group. 0.8 means that 80% of the x-axis is covered\n",
        "        by bars and 20% will be spaces between the bars.\n",
        "\n",
        "    single_width: float, optional, default: 1\n",
        "        The relative width of a single bar within a group. 1 means the bars\n",
        "        will touch eachother within a group, values less than 1 will make\n",
        "        these bars thinner.\n",
        "\n",
        "    legend: bool, optional, default: True\n",
        "        If this is set to true, a legend will be added to the axis.\n",
        "    \"\"\"\n",
        "\n",
        "    # Check if colors where provided, otherwhise use the default color cycle\n",
        "    if colors is None:\n",
        "        colors = plt.rcParams['axes.prop_cycle'].by_key()['color']\n",
        "\n",
        "    # Number of bars per group\n",
        "    n_bars = len(data)\n",
        "\n",
        "    # The width of a single bar\n",
        "    bar_width = total_width / n_bars\n",
        "\n",
        "    # List containing handles for the drawn bars, used for the legend\n",
        "    bars = []\n",
        "\n",
        "    # Iterate over all data\n",
        "    for i, (name, values) in enumerate(data.items()):\n",
        "        # The offset in x direction of that bar\n",
        "        x_offset = (i - n_bars / 2) * bar_width + bar_width / 2\n",
        "\n",
        "        # Draw a bar for every value of that type\n",
        "        for x, y in enumerate(values):\n",
        "            bar = ax.bar(x + x_offset, y, width=bar_width * single_width, color=colors[i % len(colors)],yerr=boot_stand_err[i,x]*1.96,error_kw=dict(ecolor='gray', lw=1, capsize=3, capthick=.8))\n",
        "        # Add a handle to the last drawn bar, which we'll need for the legend\n",
        "        bars.append(bar[0])\n",
        "\n",
        "    # Draw legend if we need\n",
        "    if legend:\n",
        "        ax.legend(bars, data.keys(),loc='lower center', bbox_to_anchor=(+.5, -0.17),\n",
        "              fancybox=True, shadow=True, ncol=3,frameon=True)\n"
      ]
    },
    {
      "cell_type": "code",
      "execution_count": null,
      "metadata": {
        "id": "6kJHkr9JJqQh"
      },
      "outputs": [],
      "source": [
        "data= {\n",
        "    \"Cortical Surface Area\"   : np.mean(boot_dist,axis=2)[0],\n",
        "    \"Cortical Thickness\"      : np.mean(boot_dist,axis=2)[1],\n",
        "    \"Functional Connectivity\" : np.mean(boot_dist,axis=2)[2]\n",
        "}\n",
        "fig, ax = plt.subplots()\n",
        "bar_plot(ax,data,boot_stand_err)\n",
        "plt.xticks(range(7), [\"Age\", \"FIQ\", \"VIQ\", \"PIQ\", \"Sex\",\"Handedness\",\"DX Group\"])\n",
        "plt.ylabel(\"Kendall's Rank Correlation Coefficient\")\n",
        "plt.show()"
      ]
    },
    {
      "cell_type": "code",
      "execution_count": null,
      "metadata": {
        "id": "KWP0uktadFSw"
      },
      "outputs": [],
      "source": [
        "fig, ax = plt.subplots(3,figsize=(9, 11), sharey=True, constrained_layout=True)\n",
        "for i, lat_vec in enumerate([area_latent_ful.detach().numpy(), thick_latent_ful.detach().numpy(), func_latent_ful.detach().numpy()]):\n",
        "      lat_rdm = plot_dens(i,boot_dist[i],boot_stand_err[i],pheno_cont_names+pheno_cat_names)\n",
        "plt.suptitle('Permutation Testing of Tau ')"
      ]
    },
    {
      "cell_type": "code",
      "execution_count": null,
      "metadata": {
        "id": "coSYHPn2gWB1"
      },
      "outputs": [],
      "source": [
        "boot_num = 1000\n",
        "boot_ci             = np.zeros((6, len(pheno_cat_names)+len(pheno_cont_names),2))\n",
        "boot_stand_err      = np.zeros((6, len(pheno_cat_names)+len(pheno_cont_names)))\n",
        "boot_dist           = np.zeros((6, len(pheno_cat_names)+len(pheno_cont_names),boot_num))\n",
        "for i, lat_vec in enumerate([area_latent_ful.detach().numpy(), thick_latent_ful.detach().numpy(), func_latent_ful.detach().numpy()]):\n",
        "    lat_rdm_asd = get_latent_rdm(lat_vec[np.where(pheno2.iloc[:,0]==1)])\n",
        "    lat_rdm_tc =  get_latent_rdm(lat_vec[np.where(pheno2.iloc[:,0]==1)])\n",
        "    for j, pname in enumerate(pheno_cont_names):\n",
        "        print(pname)\n",
        "        pheno_rdm_asd = get_pheno_rdm(np.array(pheno2[pname])[np.where(pheno2.iloc[:,0]==1)], is_cat=False)\n",
        "        pheno_rdm_tc =  get_pheno_rdm(np.array(pheno2[pname])[np.where(pheno2.iloc[:,0]==1)], is_cat=False)\n",
        "\n",
        "                # bootstrap\n",
        "        boot_res_asd=bootstrap((pheno_rdm_asd,lat_rdm_asd), statistic, n_resamples=boot_num,paired=True ,vectorized=False,batch=10,method='basic')\n",
        "        boot_res_tc=bootstrap((pheno_rdm_tc,lat_rdm_tc), statistic, n_resamples=boot_num,paired=True ,vectorized=False,batch=10,method='basic')\n",
        "        boot_ci[i*2,j] =boot_res_asd.confidence_interval\n",
        "        boot_stand_err[i*2,j]= boot_res_asd.standard_error\n",
        "        boot_dist[i*2,j] = boot_res_asd.bootstrap_distribution\n",
        "\n",
        "        boot_ci[i*2+1,j] =boot_res_tc.confidence_interval\n",
        "        boot_stand_err[i*2+1,j]= boot_res_tc.standard_error\n",
        "        boot_dist[i*2+1,j] = boot_res_tc.bootstrap_distribution\n",
        "\n",
        "    for j, pname in enumerate(pheno_cat_names):\n",
        "        print(pname)\n",
        "        pheno_rdm_asd = get_pheno_rdm(np.array(pheno2[pname])[np.where(pheno2.iloc[:,0]==1)], is_cat=True)\n",
        "        pheno_rdm_tc =  get_pheno_rdm(np.array(pheno2[pname])[np.where(pheno2.iloc[:,0]==1)], is_cat=True)\n",
        "        # bootstrap\n",
        "        boot_res_asd=bootstrap((pheno_rdm_asd,lat_rdm_asd), statistic, n_resamples=boot_num,paired=True ,vectorized=False,batch=10,method='basic')\n",
        "        boot_res_tc=bootstrap((pheno_rdm_tc,lat_rdm_tc), statistic, n_resamples=boot_num,paired=True ,vectorized=False,batch=10,method='basic')\n",
        "\n",
        "        boot_ci[i*2,j+len(pheno_cont_names)] =boot_res_asd.confidence_interval\n",
        "        boot_stand_err[i*2,j+len(pheno_cont_names)]= boot_res_asd.standard_error\n",
        "        boot_dist[i*2,j+len(pheno_cont_names)] = boot_res_asd.bootstrap_distribution\n",
        "\n",
        "        boot_ci[i*2+1,j+len(pheno_cont_names)] =boot_res_tc.confidence_interval\n",
        "        boot_stand_err[i*2+1,j+len(pheno_cont_names)]= boot_res_tc.standard_error\n",
        "        boot_dist[i*2+1,j+len(pheno_cont_names)] = boot_res_tc.bootstrap_distribution"
      ]
    },
    {
      "cell_type": "code",
      "execution_count": null,
      "metadata": {
        "id": "f9ICQy0u8imU"
      },
      "outputs": [],
      "source": [
        "def plot_dens(i,boot_dist_asd,boot_stand_err_asd,boot_dist_tc,boot_stand_err_tc,name):\n",
        "\n",
        "  boot_dist = pd.DataFrame({'ASD': np.mean(boot_dist_asd,axis=1),\n",
        "                    'Typical Control': np.mean(boot_dist_tc,axis=1)}, index=name)\n",
        "  boot_stand_err = pd.DataFrame({'ASD': boot_stand_err_asd,\n",
        "                    'Typical Control': boot_stand_err_tc}, index=name)\n",
        "  print(boot_dist.shape,boot_stand_err.shape)\n",
        "  colors = ['seagreen', 'green','cornflowerblue','blue', 'lightcoral','orange']\n",
        "  ax = boot_dist.plot.bar(rot=0,yerr=boot_stand_err*1.96)\n",
        "  #bar=ax[i].bar(name,boot_dist,yerr=boot_stand_err*1.96,label='Barplot')\n"
      ]
    },
    {
      "cell_type": "code",
      "execution_count": null,
      "metadata": {
        "id": "RD7CK80l9rGG"
      },
      "outputs": [],
      "source": [
        "fig, ax = plt.subplots(3,figsize=(9, 11), sharey=True, constrained_layout=True)\n",
        "for i, lat_vec in enumerate([area_latent_ful.detach().numpy(), thick_latent_ful.detach().numpy(), func_latent_ful.detach().numpy()]):\n",
        "      lat_rdm = plot_dens(i,boot_dist[i*2],boot_stand_err[i*2],boot_dist[i*2+1],boot_stand_err[i*2+1],pheno_cont_names+pheno_cat_names)\n",
        "plt.suptitle('Permutation Testing of Tau ')"
      ]
    },
    {
      "cell_type": "code",
      "execution_count": null,
      "metadata": {
        "id": "_0mGuNB6KTVS"
      },
      "outputs": [],
      "source": [
        "## Plotting\n",
        "\n",
        "print_labels = ['Age', 'FIQ', 'Sex', 'Hand', 'ASD' ,'VIQ', 'PIQ']\n",
        "titles = ['SA', 'CT', 'FC']\n",
        "colors = ['seagreen', 'cornflowerblue', 'lightcoral']\n",
        "fig, ax = plt.subplots(figsize=(18, 5), ncols=3, sharey=True)\n",
        "for i in range(3):\n",
        "    ax[i].bar(np.arange(len(taus[i])), taus[i], color=[colors[i]]*len(taus[i]))\n",
        "    ax[i].set_xticks(np.arange(len(print_labels)), print_labels);\n",
        "\n",
        "    y_position = taus[i].max() * 1.2\n",
        "    for idx, pval in enumerate(perm_stat[i,:,0]):\n",
        "      if pval>=0.95:\n",
        "          ax[i].text(x=idx, y=y_position, s=\"*\")\n",
        "ax[0].set_ylabel('Tau')\n",
        "plt.tight_layout()"
      ]
    },
    {
      "cell_type": "code",
      "execution_count": null,
      "metadata": {
        "id": "Nh94N3munrbJ"
      },
      "outputs": [],
      "source": []
    },
    {
      "cell_type": "markdown",
      "metadata": {
        "id": "nivwwGuk-CEn"
      },
      "source": [
        "## Test for subgroups"
      ]
    },
    {
      "cell_type": "code",
      "execution_count": null,
      "metadata": {
        "id": "ujcd5V_8KOBz"
      },
      "outputs": [],
      "source": [
        "# Plot for Area\n",
        "\n",
        "# Note: Choose Modality with setting data, choose phenotypic data with setting phenodata. Get all phenotypic datapoints using pheno2.columns\n",
        "data=X2_embedded_area\n",
        "phenodata=pheno2.iloc[:,3] #3 is Sex, set number to change which data to project to cmap\n",
        "ax = plt.figure().add_subplot()\n",
        "\n",
        "\n",
        "ax.scatter(data [np.where((kmeans_area.labels_==0) &(pheno2.iloc[:,0]==2)),0], data[np.where((kmeans_area.labels_==0)&(pheno2.iloc[:,0]==2)),1],  marker='^',  linestyle='None',    c=phenodata.iloc[np.where((kmeans_area.labels_==0)&(pheno2.iloc[:,0]==2))],vmin=np.min(phenodata),vmax=np.max(phenodata),s=50 ,cmap='coolwarm')\n",
        "ax.scatter(data [np.where((kmeans_area.labels_==1) &(pheno2.iloc[:,0]==2)),0], data[np.where((kmeans_area.labels_==1) &(pheno2.iloc[:,0]==2)),1],  marker='1',  linestyle='None',    c=phenodata.iloc[np.where((kmeans_area.labels_==1) &(pheno2.iloc[:,0]==2))],vmin=np.min(phenodata),vmax=np.max(phenodata),s=50 ,cmap='coolwarm')\n",
        "ax.scatter(data [np.where((kmeans_area.labels_==2) &(pheno2.iloc[:,0]==2)),0], data[np.where((kmeans_area.labels_==2) &(pheno2.iloc[:,0]==2)),1],  marker='2',  linestyle='None',    c=phenodata.iloc[np.where((kmeans_area.labels_==2) &(pheno2.iloc[:,0]==2))],vmin=np.min(phenodata),vmax=np.max(phenodata),s=50 ,cmap='coolwarm')\n",
        "im=ax.scatter(data [np.where((kmeans_area.labels_==3) &(pheno2.iloc[:,0]==2)),0], data[np.where((kmeans_area.labels_==3) &(pheno2.iloc[:,0]==2)),1] , marker='x',  linestyle='None', c=phenodata.iloc[np.where((kmeans_area.labels_==3) &(pheno2.iloc[:,0]==2))],vmin=np.min(phenodata),vmax=np.max(phenodata),s=50 ,cmap='coolwarm')\n",
        "ax.set_xticks([])\n",
        "ax.set_yticks([])\n",
        "\n",
        "plt.title(\"Latent Representations of Cortical Thickness, Clusters and \"+ pheno2.iloc[:,3].name)\n",
        "\n",
        "\n"
      ]
    },
    {
      "cell_type": "code",
      "execution_count": null,
      "metadata": {
        "id": "DXcjG9bSLdZm"
      },
      "outputs": [],
      "source": [
        "# Plot for Area\n",
        "\n",
        "# Note: Choose Modality with setting data, choose phenotypic data with setting phenodata. Get all phenotypic datapoints using pheno2.columns\n",
        "\n",
        "data=X2_embedded_area\n",
        "phenodata=pheno2.iloc[:,3] #3 is Sex, set number to change which data to project to cmap\n",
        "ax = plt.figure().add_subplot()\n",
        "\n",
        "\n",
        "ax.scatter(data [np.where((kmeans_area.labels_==0) &(pheno2.iloc[:,0]==1)),0], data[np.where((kmeans_area.labels_==0)&(pheno2.iloc[:,0]==1)),1],  marker='^',  linestyle='None',     c=phenodata.iloc[np.where((kmeans_area.labels_==0)&(pheno2.iloc[:,0]==1))],vmin=np.min(phenodata),vmax=np.max(phenodata),s=50 ,cmap='coolwarm')\n",
        "ax.scatter(data [np.where((kmeans_area.labels_==1) &(pheno2.iloc[:,0]==1)),0], data[np.where((kmeans_area.labels_==1) &(pheno2.iloc[:,0]==1)),1],  marker='1',  linestyle='None',    c=phenodata.iloc[np.where((kmeans_area.labels_==1) &(pheno2.iloc[:,0]==1))],vmin=np.min(phenodata),vmax=np.max(phenodata),s=50 ,cmap='coolwarm')\n",
        "ax.scatter(data [np.where((kmeans_area.labels_==2) &(pheno2.iloc[:,0]==1)),0], data[np.where((kmeans_area.labels_==2) &(pheno2.iloc[:,0]==1)),1],  marker='2',  linestyle='None',    c=phenodata.iloc[np.where((kmeans_area.labels_==2) &(pheno2.iloc[:,0]==1))],vmin=np.min(phenodata),vmax=np.max(phenodata),s=50 ,cmap='coolwarm')\n",
        "im=ax.scatter(data [np.where((kmeans_area.labels_==3) &(pheno2.iloc[:,0]==1)),0], data[np.where((kmeans_area.labels_==3) &(pheno2.iloc[:,0]==1)),1] , marker='x',  linestyle='None', c=phenodata.iloc[np.where((kmeans_area.labels_==3) &(pheno2.iloc[:,0]==1))],vmin=np.min(phenodata),vmax=np.max(phenodata),s=50 ,cmap='coolwarm')\n",
        "ax.set_xticks([])\n",
        "ax.set_yticks([])\n",
        "\n",
        "plt.title(\"Latent Representations of Cortical Thickness, Clusters and \"+ pheno2.iloc[:,3].name)\n",
        "\n",
        "\n"
      ]
    },
    {
      "cell_type": "markdown",
      "metadata": {
        "id": "uAIh1Gpm9-t0"
      },
      "source": [
        "#Plots"
      ]
    },
    {
      "cell_type": "code",
      "execution_count": null,
      "metadata": {
        "id": "HWqO-D-RNJ_-"
      },
      "outputs": [],
      "source": [
        "fig, ax = plt.subplots(3,5, figsize=(12,7),dpi=300, constrained_layout=True)\n",
        "list_index=[3,2,6,7,8]\n",
        "mod_index=[2,0,1]\n",
        "for idx,i in enumerate(list_index):\n",
        "  for idy,mod in enumerate(mod_index):\n",
        "    print(mod)\n",
        "    check=False\n",
        "    for k in p_val_adj[mod,i].flatten():\n",
        "      if k<=0.05 :\n",
        "        check=True\n",
        "    if check==True:\n",
        "      sns.heatmap(np.round(p_val_adj[mod,i,:],3),cbar=False,annot=True,vmin=0,ax=ax[idy,idx],annot_kws={\"size\":8})\n",
        "\n",
        "rows = [ 'CSA','FC', 'CT']\n",
        "cols =[\"Sex\",\"Age\",\"Full-Scale IQ\", \"Verbal IQ\", \"Performance IQ\"]\n",
        "\n",
        "ax[0,0].set_title(cols[0])\n",
        "ax[0,1].set_title(cols[1])\n",
        "ax[0,2].set_title(cols[2])\n",
        "ax[0,3].set_title(cols[3])\n",
        "ax[0,4].set_title(cols[4])\n",
        "\n",
        "for ax, row in zip(ax[:,0], rows):\n",
        "    ax.set_ylabel(row, rotation=45,)\n",
        "\n"
      ]
    },
    {
      "cell_type": "markdown",
      "metadata": {
        "id": "JZ3MIGpDm3Rr"
      },
      "source": [
        "## Reconstruction Performance"
      ]
    },
    {
      "cell_type": "code",
      "execution_count": null,
      "metadata": {
        "id": "C4sBahxax-wJ",
        "colab": {
          "base_uri": "https://localhost:8080/"
        },
        "outputId": "e55e9901-9110-49dd-d6a5-94e4236e2c60"
      },
      "outputs": [
        {
          "output_type": "stream",
          "name": "stderr",
          "text": [
            "/usr/local/lib/python3.10/dist-packages/ipykernel/ipkernel.py:283: DeprecationWarning: `should_run_async` will not call `transform_cell` automatically in the future. Please pass the result to `transformed_cell` argument and any exception that happen during thetransform in `preprocessing_exc_tuple` in IPython 7.17 and above.\n",
            "  and should_run_async(code)\n"
          ]
        }
      ],
      "source": [
        "\n",
        "isfunc=np.load(\"/content/drive/My Drive/BA/isfunc.npy\", allow_pickle=True)\n",
        "#Pheno Data\n",
        "pheno_data=pd.read_csv('/content/drive/My Drive/BA/pheno_data.csv', index_col=0)\n",
        "pheno_data.iloc[isfunc==1]\n",
        "\n",
        "#Functional Data\n",
        "func_data= np.load(\"/content/drive/My Drive/BA/func_flat_Tal_new.npy\", allow_pickle=True)\n",
        "func_data[np.where(np.isnan(func_data))]=0\n",
        "func_data= (func_data - np.mean(func_data)) / np.std(func_data)\n",
        "func_data_recon=model_func.decode(func_latent_ful).detach().numpy()\n",
        "thick_to_func=model_func.decode(thick_latent_ful.cpu()).detach().numpy()\n",
        "area_to_func =model_func.decode( area_latent_ful.cpu()).detach().numpy()\n",
        "\n",
        "#Area Data\n",
        "area_data=np.load('/content/drive/My Drive/BA/area_data_red.npy')[:,:,0].T\n",
        "area_data=(area_data - np.mean(area_data)) / np.std(area_data)\n",
        "area_data=area_data[isfunc==1]\n",
        "\n",
        "area_data_recon=(model_area.decode(area_latent_ful).detach().numpy())\n",
        "func_to_area= model_area.cpu().decode(func_latent_ful .cpu()).detach().numpy()\n",
        "thick_to_area=model_area.cpu().decode(thick_latent_ful.cpu()).detach().numpy()\n",
        "\n",
        "#Cortical Thickness Data\n",
        "thick_data=np.load('/content/drive/My Drive/BA/thick_data_red.npy')[:,:,0].T\n",
        "thick_data=(thick_data - np.mean(thick_data)) / np.std(thick_data)\n",
        "thick_data=thick_data[isfunc==1]\n",
        "\n",
        "thick_data_recon=model_thick.decode(thick_latent_ful).detach().numpy()\n",
        "func_to_thick=model_thick.cpu().decode(func_latent_ful.cpu()).detach().numpy()\n",
        "area_to_thick=model_thick.cpu().decode(area_latent_ful.cpu()).detach().numpy()\n",
        "\n",
        "\n",
        "## Yang\n",
        "yang_func_data_recon=yang_model_func.decode(yang_func_latent_ful).detach().numpy()\n",
        "yang_thick_to_func=  yang_model_func.decode(yang_thick_latent_ful.cpu()).detach().numpy()\n",
        "yang_area_to_func =  yang_model_func.decode( yang_area_latent_ful.cpu()).detach().numpy()\n",
        "\n",
        "yang_area_data_recon=(yang_model_area.decode(yang_area_latent_ful).detach().numpy())\n",
        "yang_func_to_area=    yang_model_area.cpu().decode(yang_func_latent_ful .cpu()).detach().numpy()\n",
        "yang_thick_to_area=   yang_model_area.cpu().decode(yang_thick_latent_ful.cpu()).detach().numpy()\n",
        "\n",
        "yang_thick_data_recon=yang_model_thick.decode(yang_thick_latent_ful).detach().numpy()\n",
        "yang_func_to_thick=   yang_model_thick.cpu().decode(yang_func_latent_ful.cpu()).detach().numpy()\n",
        "yang_area_to_thick=   yang_model_thick.cpu().decode(yang_area_latent_ful.cpu()).detach().numpy()\n"
      ]
    },
    {
      "cell_type": "code",
      "execution_count": null,
      "metadata": {
        "id": "BUyaibLtQkst"
      },
      "outputs": [],
      "source": [
        "func_data.shape"
      ]
    },
    {
      "cell_type": "code",
      "execution_count": null,
      "metadata": {
        "id": "WCzWppNfJRxH"
      },
      "outputs": [],
      "source": [
        "def MSE(a,b):\n",
        "  print(np.square(np.subtract(a,b)).shape)\n",
        "  mse=np.square(np.subtract(a,b)).mean()\n",
        "  return mse\n",
        "def losses(original, reconstruction,b2a,c2a):\n",
        "  recon_loss=MSE(original,reconstruction)\n",
        "  cmr_a=MSE(original,b2a)\n",
        "  cmr_b=MSE(original,c2a)\n",
        "  recon_loss_mod=MSE(original,np.mean(original,axis=0))\n",
        "  return [recon_loss,cmr_a,cmr_b,recon_loss_mod]\n",
        "\n",
        "for i,(name,orig,recon,b2a,c2a) in enumerate([['Func',func_data,func_data_recon,thick_to_func,area_to_func],['Thick',thick_data,func_to_thick,thick_data_recon,area_to_thick],['Area',area_data,func_to_area,thick_to_area,area_data_recon]]):\n",
        "  if i==0:\n",
        "    loss_ful=pd.DataFrame(losses(orig,recon,b2a,c2a),index=[\"Reconstruction\",\"Modality improvement\", \"cmr_a\",\"cmr_b\"])\n",
        "  else:\n",
        "    loss_ful=pd.concat([loss_ful,pd.DataFrame(losses(orig,recon,b2a,c2a),index=[\"Reconstruction\",\"Modality improvement\", \"cmr_a\",\"cmr_b\"])],axis=1)\n"
      ]
    },
    {
      "cell_type": "code",
      "execution_count": null,
      "metadata": {
        "id": "AYH4-XOfREiB"
      },
      "outputs": [],
      "source": [
        "loss_ful.T"
      ]
    },
    {
      "cell_type": "code",
      "execution_count": null,
      "metadata": {
        "id": "vq2KCGent5TE"
      },
      "outputs": [],
      "source": [
        "\n",
        "for i,(name,orig,recon,b2a,c2a) in enumerate([['Func',func_data,yang_func_data_recon,yang_thick_to_func,yang_area_to_func],['Thick',thick_data,yang_func_to_thick,yang_thick_data_recon,yang_area_to_thick],['Area',area_data,yang_func_to_area,yang_thick_to_area,yang_area_data_recon]]):\n",
        "  if i==0:\n",
        "    loss_ful=pd.DataFrame(losses(orig,recon,b2a,c2a),index=[\"Reconstruction\",\"Modality improvement\", \"cmr_a\",\"cmr_b\"])\n",
        "  else:\n",
        "    loss_ful=pd.concat([loss_ful,pd.DataFrame(losses(orig,recon,b2a,c2a),index=[\"Reconstruction\",\"Modality improvement\", \"cmr_a\",\"cmr_b\"])],axis=1)\n"
      ]
    },
    {
      "cell_type": "code",
      "execution_count": null,
      "metadata": {
        "id": "p3DVAFWcUYh5"
      },
      "outputs": [],
      "source": [
        "loss_ful.T"
      ]
    },
    {
      "cell_type": "code",
      "execution_count": null,
      "metadata": {
        "id": "yS-qvKkvUFcl"
      },
      "outputs": [],
      "source": [
        "def upscale (input):\n",
        "  print(input.shape)\n",
        "  upscaled=np.zeros((input.shape[0]*2))\n",
        "  print(upscaled.shape)\n",
        "  upscaled[np.arange(0,upscaled.shape[0],2)]=input\n",
        "  upscaled[np.arange(1,upscaled.shape[0],2)]=input\n",
        "  return(upscaled)"
      ]
    },
    {
      "cell_type": "code",
      "execution_count": null,
      "metadata": {
        "id": "NlSGuPnvdjuJ"
      },
      "outputs": [],
      "source": [
        "input=func_data\n",
        "reconby=func_latent_ful\n",
        "reconby1=area_latent_ful\n",
        "reconby2=thick_latent_ful\n",
        "print(np.round(np.sum(np.abs(model_func.decode(reconby).detach().numpy()-input))/(input.shape[0]*input.shape[1]),3))\n",
        "print(np.round(np.std(np.abs(model_func.decode(reconby).detach().numpy()-input)),3))\n",
        "print(np.round(np.sum(np.abs(model_func.decode(reconby1).detach().numpy()-input))/(input.shape[0]*input.shape[1]),3))\n",
        "print(np.round(np.std(np.abs(model_func.decode(reconby1).detach().numpy()-input)),3))\n",
        "print(np.round(np.sum(np.abs(model_func.decode(reconby2).detach().numpy()-input))/(input.shape[0]*input.shape[1]),3))\n",
        "print(np.round(np.std(np.abs(model_func.decode(reconby2).detach().numpy()-input)),3))"
      ]
    },
    {
      "cell_type": "code",
      "execution_count": null,
      "metadata": {
        "id": "2gyaadZYl8gg"
      },
      "outputs": [],
      "source": [
        "input=func_data\n",
        "reconby=func_latent_ful\n",
        "reconby1=area_latent_ful\n",
        "reconby2=thick_latent_ful\n",
        "print(np.round((np.abs(model_func.decode(reconby).detach().numpy()-input)),3))\n",
        "print(np.round((np.abs(model_func.decode(reconby1).detach().numpy()-input))/(input.shape[0]*input.shape[1]),3))\n",
        "print(np.round((np.abs(model_func.decode(reconby1).detach().numpy()-input)),3))\n",
        "print(np.round((np.abs(model_func.decode(reconby2).detach().numpy()-input))/(input.shape[0]*input.shape[1]),3))\n",
        "print(np.round(np.std(np.abs(model_func.decode(reconby2).detach().numpy()-input)),3))"
      ]
    },
    {
      "cell_type": "code",
      "execution_count": null,
      "metadata": {
        "id": "zmdYPZ406g3v",
        "colab": {
          "base_uri": "https://localhost:8080/",
          "height": 1000
        },
        "outputId": "8f5b3c8b-2cdb-4d79-e0fa-95fae999a149"
      },
      "outputs": [
        {
          "output_type": "stream",
          "name": "stderr",
          "text": [
            "/usr/local/lib/python3.10/dist-packages/ipykernel/ipkernel.py:283: DeprecationWarning: `should_run_async` will not call `transform_cell` automatically in the future. Please pass the result to `transformed_cell` argument and any exception that happen during thetransform in `preprocessing_exc_tuple` in IPython 7.17 and above.\n",
            "  and should_run_async(code)\n"
          ]
        },
        {
          "output_type": "execute_result",
          "data": {
            "text/plain": [
              "<Axes: >"
            ]
          },
          "metadata": {},
          "execution_count": 20
        },
        {
          "output_type": "display_data",
          "data": {
            "text/plain": [
              "<Figure size 1000x1000 with 2 Axes>"
            ],
            "image/png": "[encoded data removed]"
          },
          "metadata": {}
        }
      ],
      "source": [
        "def recon_matrix(X):\n",
        "  X1=np.zeros((97,97))\n",
        "  X1[np.triu_indices(97,k=1)]=X\n",
        "  X1 = X1 + X1.T - np.diag(np.diag(X1))\n",
        "  np.fill_diagonal(X1,np.nan)\n",
        "  return X1\n",
        "fig = plt.figure(figsize=(2,2),dpi= 500,constrained_layout=True)\n",
        "sns.heatmap(recon_matrix(area_to_func[0]),cbar=True,cmap=\"coolwarm\",annot=False,square=True,xticklabels=False,yticklabels=False,vmin=-3,vmax=3)\n"
      ]
    },
    {
      "cell_type": "markdown",
      "metadata": {
        "id": "BAT0_woin0CM"
      },
      "source": [
        "## Recon fMRI"
      ]
    },
    {
      "cell_type": "code",
      "execution_count": null,
      "metadata": {
        "id": "NmN9DeRSPvNt"
      },
      "outputs": [],
      "source": [
        "def recon_matrix(X):\n",
        "  X1=np.zeros((97,97))\n",
        "  X1[np.triu_indices(97,k=1)]=X\n",
        "  X1 = X1 + X1.T - np.diag(np.diag(X1))\n",
        "  np.fill_diagonal(X1,np.nan)\n",
        "  return X1\n",
        "fig = plt.figure(figsize=(12,12), dpi= 300,constrained_layout=True)\n",
        "\n",
        "\n",
        "ax = fig.add_subplot(3,3, 1)\n",
        "sns.heatmap(recon_matrix(np.mean(model_func.decode(func_latent_ful).detach().numpy()-func_data,0)),ax=ax,cmap=\"coolwarm\",annot=False,square=True,xticklabels=False,yticklabels=False)\n",
        "\n",
        "ax.set_title(\"Functional Connectivity (Full Sample)\")\n",
        "\n",
        "ax = fig.add_subplot(3,3, 2, projection='3d')\n",
        "\n",
        "plotting.plot_surf_stat_map(datasets.fetch_surf_fsaverage(mesh='fsaverage').white_left,np.mean(model_area.decode(area_latent_ful).detach().numpy()-thick_data,0),axes=ax,colorbar=True,cmap='coolwarm')\n",
        "ax.set_title(\"Cortical Thickness (Full Sample)\")\n",
        "ax = fig.add_subplot(3,3, 3, projection='3d')\n",
        "\n",
        "plotting.plot_surf_stat_map(datasets.fetch_surf_fsaverage(mesh='fsaverage').white_left,np.mean(model_thick.decode(thick_latent_ful).detach().numpy()-area_data,0),axes=ax,colorbar=True,cmap='coolwarm')\n",
        "ax.set_title(\"Cortical Surface Area (Full Sample)\")\n",
        "\n",
        "ax = fig.add_subplot(3,3, 4)\n",
        "sns.heatmap(recon_matrix(np.mean(model_func.decode(func_latent_ful[np.where(pheno2.iloc[:,0]==1)]).detach().numpy()-func_data[np.where(pheno2.iloc[:,0]==1)],0)),ax=ax,cmap=\"coolwarm\",annot=False,square=True,xticklabels=False,yticklabels=False)\n",
        "\n",
        "ax.set_title(\"Functional Connectivity (ASD)\")\n",
        "\n",
        "ax = fig.add_subplot(3,3, 5, projection='3d')\n",
        "\n",
        "plotting.plot_surf_stat_map(datasets.fetch_surf_fsaverage(mesh='fsaverage').white_left,np.mean(model_area.decode(area_latent_ful[np.where(pheno2.iloc[:,0]==1)]).detach().numpy()-thick_data[np.where(pheno2.iloc[:,0]==1)],0),axes=ax,colorbar=True,cmap='coolwarm')\n",
        "ax.set_title(\"Cortical Thickness (ASD)\")\n",
        "ax = fig.add_subplot(3,3, 6, projection='3d')\n",
        "\n",
        "plotting.plot_surf_stat_map(datasets.fetch_surf_fsaverage(mesh='fsaverage').white_left,np.mean(model_thick.decode(thick_latent_ful[np.where(pheno2.iloc[:,0]==1)]).detach().numpy()-area_data[np.where(pheno2.iloc[:,0]==1)],0),axes=ax,colorbar=True,cmap='coolwarm')\n",
        "ax.set_title(\"Cortical Surface Area (ASD)\")\n",
        "\n",
        "\n",
        "ax = fig.add_subplot(3,3, 7)\n",
        "sns.heatmap(recon_matrix(np.mean(model_func.decode(func_latent_ful[np.where(pheno2.iloc[:,0]==2)]).detach().numpy()-func_data[np.where(pheno2.iloc[:,0]==2)],0)),ax=ax,cmap=\"coolwarm\",annot=False,square=True,xticklabels=False,yticklabels=False)\n",
        "\n",
        "ax.set_title(\"Functional Connectivity (Typical Control)\")\n",
        "\n",
        "ax = fig.add_subplot(3,3, 8, projection='3d')\n",
        "\n",
        "plotting.plot_surf_stat_map(datasets.fetch_surf_fsaverage(mesh='fsaverage').white_left,np.mean(model_area.decode(area_latent_ful[np.where(pheno2.iloc[:,0]==2)]).detach().numpy()-thick_data[np.where(pheno2.iloc[:,0]==2)],0),axes=ax,colorbar=True,cmap='coolwarm')\n",
        "ax.set_title(\"Cortical Thickness (Typical Control)\")\n",
        "ax = fig.add_subplot(3,3, 9, projection='3d')\n",
        "\n",
        "plotting.plot_surf_stat_map(datasets.fetch_surf_fsaverage(mesh='fsaverage').white_left,np.mean(model_thick.decode(thick_latent_ful[np.where(pheno2.iloc[:,0]==2)]).detach().numpy()-area_data[np.where(pheno2.iloc[:,0]==2)],0),axes=ax,colorbar=True,cmap='coolwarm')\n",
        "ax.set_title(\"Cortical Surface Area (Typical Control)\")\n",
        "\n",
        "\n"
      ]
    },
    {
      "cell_type": "code",
      "execution_count": null,
      "metadata": {
        "id": "WhcMcqnmP1pS"
      },
      "outputs": [],
      "source": [
        "fig = plt.figure(constrained_layout=True)\n",
        "\n",
        "\n",
        "ax = fig.add_subplot(111,projection='3D')\n",
        "plotting.plot_surf_stat_map(datasets.fetch_surf_fsaverage(mesh='fsaverage').white_left,np.mean(model_area.decode(area_latent_ful[np.where(pheno2.iloc[:,0]==2)]).detach().numpy()-thick_data[np.where(pheno2.iloc[:,0]==2)],0),axes=ax,colorbar=True,cmap='coolwarm')"
      ]
    },
    {
      "cell_type": "code",
      "execution_count": null,
      "metadata": {
        "id": "UakGclammfMc"
      },
      "outputs": [],
      "source": [
        "def recon_matrix(X):\n",
        "  X1=np.zeros((97,97))\n",
        "  X1[np.triu_indices(97,k=1)]=X\n",
        "  X1 = X1 + X1.T - np.diag(np.diag(X1))\n",
        "  np.fill_diagonal(X1,np.nan)\n",
        "  return X1\n",
        "\n",
        "fig, ax = plt.subplots(2,4, figsize=(16,7),dpi=300, constrained_layout=True)\n",
        "input=func_data\n",
        "reconby=func_latent_ful\n",
        "reconby1=area_latent_ful\n",
        "reconby2=thick_latent_ful\n",
        "\n",
        "\n",
        "sns.heatmap(recon_matrix(np.mean(input-np.mean(input,0),0)),cmap=\"coolwarm\",ax=ax[0,0])\n",
        "\n",
        "sns.heatmap(recon_matrix(np.std(input-np.mean(input,0),0)),cmap=\"coolwarm\",ax=ax[1,0])\n",
        "\n",
        "sns.heatmap(recon_matrix(np.mean(model_func.decode(reconby).detach().numpy()-input,0)),cmap=\"coolwarm\",ax=ax[0,1])\n",
        "\n",
        "sns.heatmap(recon_matrix(np.std(model_func.decode(reconby).detach().numpy()-input,0)),cmap=\"coolwarm\",ax=ax[1,1],vmax=1)\n",
        "\n",
        "sns.heatmap(recon_matrix(np.mean(model_func.decode(reconby1).detach().numpy()-input,0)),cmap=\"coolwarm\",ax=ax[0,2])\n",
        "sns.heatmap(recon_matrix(np.std(model_func.decode(reconby1).detach().numpy()-input,0)),cmap=\"coolwarm\",ax=ax[1,2],vmax=1)\n",
        "\n",
        "\n",
        "sns.heatmap(recon_matrix(np.mean(model_func.decode(reconby2).detach().numpy()-input,0)),cmap=\"coolwarm\",ax=ax[0,3])\n",
        "sns.heatmap(recon_matrix(np.std(model_func.decode(reconby2).detach().numpy()-input,0)),cmap=\"coolwarm\",ax=ax[1,3],vmax=1)\n"
      ]
    },
    {
      "cell_type": "markdown",
      "metadata": {
        "id": "H0jT2GBMo7E6"
      },
      "source": [
        "# Brain Crossmodal Reconstruction Visualizations"
      ]
    },
    {
      "cell_type": "code",
      "execution_count": null,
      "metadata": {
        "id": "RzM7Y8BTQxJX"
      },
      "outputs": [],
      "source": [
        "fsaverage=datasets.fetch_surf_fsaverage(mesh='fsaverage')"
      ]
    },
    {
      "cell_type": "code",
      "execution_count": null,
      "metadata": {
        "id": "BgtBnEFOmJ02"
      },
      "outputs": [],
      "source": [
        "\n",
        "area_data=np.load('/content/drive/My Drive/BA/full_data_thick.npy')[:,:,0].T\n",
        "area_data=(area_data - np.mean(area_data)) / np.std(area_data)\n",
        "#Cortical Thickness Data\n",
        "thick_data=np.load('/content/drive/My Drive/BA/full_data_area.npy')[:,:,0].T\n",
        "thick_data=(thick_data - np.mean(thick_data)) / np.std(thick_data)\n"
      ]
    },
    {
      "cell_type": "code",
      "execution_count": null,
      "metadata": {
        "id": "PQjzZafujDZ9"
      },
      "outputs": [],
      "source": [
        "fig = plt.figure(dpi= 100,constrained_layout=True)\n",
        "ax = fig.add_subplot(1, 1, 1, projection='3d')\n",
        "plot=plotting.plot_surf_stat_map(\n",
        "          fsaverage.pial_left, thick_data[0], colorbar=False,axes=ax,cmap=\"Blues\", bg_map=fsaverage['sulc_left'], bg_on_data=True,darkness=0.5)\n",
        "plot.figure.savefig('/content/drive/My Drive/BA/thickness.png')"
      ]
    },
    {
      "cell_type": "code",
      "execution_count": null,
      "metadata": {
        "id": "bqwTKsFatk-w"
      },
      "outputs": [],
      "source": [
        "savefig('/content/drive/My Drive/BA/demo2.png', transparent=False)"
      ]
    },
    {
      "cell_type": "code",
      "execution_count": null,
      "metadata": {
        "id": "rc0WUAt8Qj_i"
      },
      "outputs": [],
      "source": [
        "def plot_brain(data,plot_n):\n",
        "  ax = fig.add_subplot(2, 2, plot_n*4+1, projection='3d')\n",
        "  plotting.plot_surf_stat_map(\n",
        "          fsaverage.infl_left, upscale(data)[len(data):], hemi='left', colorbar=False,axes=ax,cmap=\"coolwarm\", bg_map=fsaverage['sulc_left'], bg_on_data=True,darkness=.3)\n",
        "  ax = fig.add_subplot(2, 2, plot_n*4+2, projection='3d')\n",
        "  plotting.plot_surf_stat_map(\n",
        "        fsaverage.infl_left, upscale(data)[len(data):], hemi='left', colorbar=False ,axes=ax,cmap=\"coolwarm\", bg_map=fsaverage['sulc_left'], bg_on_data=True,view='medial')\n",
        "  ax = fig.add_subplot(2, 2, plot_n*4+3, projection='3d')\n",
        "  plotting.plot_surf_stat_map(\n",
        "        fsaverage.infl_right, upscale(data)[:len(data)], hemi='right', colorbar=False, bg_map=fsaverage['sulc_right'], bg_on_data=True,cmap=\"coolwarm\",axes=ax)\n",
        "  ax = fig.add_subplot(2, 2, plot_n*4+4, projection='3d')\n",
        "  plotting.plot_surf_stat_map(\n",
        "        fsaverage.infl_right, upscale(data)[:len(data)], hemi='right', colorbar=False, bg_map=fsaverage['sulc_right'], bg_on_data=True,cmap=\"coolwarm\",axes=ax,view='medial')\n",
        "\n",
        "\n",
        "fig = plt.figure(dpi= 300)\n",
        "\n",
        "for i, data  in enumerate([area_data[0]]):\n",
        "  plot_brain(data,i)\n",
        "\n",
        "\n",
        "plt.subplots_adjust(wspace=0, hspace=0)\n",
        "cbar_ax = fig.add_axes([0.85, 0.15, 0.05, 0.7])\n",
        "fig.colorbar(ax)\n"
      ]
    },
    {
      "cell_type": "code",
      "source": [
        "\n",
        "fig, axes = plt.subplots(2,2,figsize=(6,6),subplot_kw=dict(projection='3d'))\n",
        "ax = axes.ravel()\n",
        "\n",
        "\n",
        "\n",
        "\n",
        "im=plotting.plot_surf_stat_map(\n",
        "          fsaverage.infl_left, upscale(func_to_thick[0])[len(data):], hemi='left', colorbar=False,axes=ax[0],cmap=\"coolwarm\", bg_map=fsaverage['sulc_left'], bg_on_data=True,darkness=.3,vmin=-3,vmax=3)\n",
        "im=plotting.plot_surf_stat_map(\n",
        "      fsaverage.infl_left, upscale(func_to_thick[0])[len(data):], hemi='left', colorbar=False ,axes=ax[1],cmap=\"coolwarm\", bg_map=fsaverage['sulc_left'], bg_on_data=True,view='medial',vmin=-3,vmax=3)\n",
        "im=plotting.plot_surf_stat_map(\n",
        "      fsaverage.infl_right, upscale(func_to_thick[0])[:len(data)], hemi='right', colorbar=False, bg_map=fsaverage['sulc_right'], bg_on_data=True,cmap=\"coolwarm\",axes=ax[2],vmin=-3,vmax=3)\n",
        "im=plotting.plot_surf_stat_map(\n",
        "      fsaverage.infl_right, upscale(func_to_thick[0])[:len(data)], hemi='right', colorbar=False, bg_map=fsaverage['sulc_right'], bg_on_data=True,cmap=\"coolwarm\",axes=ax[3],view='medial',vmin=-3,vmax=3)\n",
        "\n",
        "\n",
        "plt.subplots_adjust(wspace=0, hspace=0)\n",
        "\n",
        "\n",
        "plt.show()"
      ],
      "metadata": {
        "id": "Dpf1Fqrwlzng"
      },
      "execution_count": null,
      "outputs": []
    },
    {
      "cell_type": "code",
      "execution_count": null,
      "metadata": {
        "id": "rqPRH0DlCFd6"
      },
      "outputs": [],
      "source": [
        "fig = plt.figure(figsize=(3,6),dpi= 300,constrained_layout=True)\n",
        "\n",
        "for i, data  in enumerate([thick_data_mean,thick_recon]):\n",
        "  plot_brain(data,i)\n"
      ]
    },
    {
      "cell_type": "code",
      "execution_count": null,
      "metadata": {
        "id": "c0bCpQJi_L_E"
      },
      "outputs": [],
      "source": [
        "fig = plt.figure(figsize=(3,6),dpi= 300,constrained_layout=True)\n",
        "for i in range (8):\n",
        "ax = fig.add_subplot(2, 4, 1, projection='3d')\n",
        "plotting.plot_surf_stat_map(\n",
        "        fsaverage.infl_left, upscale(area_data_mean)[len(area_data_mean):], hemi='left', colorbar=False,axes=ax,cmap=\"coolwarm\", bg_map=fsaverage['sulc_left'], bg_on_data=True,darkness=.3)\n",
        "\n",
        "\n",
        "ax = fig.add_subplot(2, 4, 2, projection='3d')\n",
        "plotting.plot_surf_stat_map(\n",
        "        fsaverage.infl_left, upscale(area_data_mean)[len(area_data_mean):], hemi='left', colorbar=True ,axes=ax,cmap=\"coolwarm\", bg_map=fsaverage['sulc_left'], bg_on_data=True,view='medial')\n",
        "\n",
        "ax = fig.add_subplot(2, 4, 3, projection='3d')\n",
        "plotting.plot_surf_stat_map(\n",
        "        fsaverage.infl_right, upscale(area_data_mean)[:len(area_data_mean)], hemi='right', colorbar=False, bg_map=fsaverage['sulc_right'], bg_on_data=True,cmap=\"coolwarm\",axes=ax)\n",
        "ax = fig.add_subplot(2, 4, 4, projection='3d')\n",
        "plotting.plot_surf_stat_map(\n",
        "        fsaverage.infl_right, upscale(area_data_mean)[:len(area_data_mean)], hemi='right', colorbar=True, bg_map=fsaverage['sulc_right'], bg_on_data=True,cmap=\"coolwarm\",axes=ax,view='medial')\n",
        "\n",
        "ax = fig.add_subplot(2, 4, 5, projection='3d')\n",
        "plotting.plot_surf_stat_map(\n",
        "        fsaverage.infl_left, upscale(area_recon)[len(area_recon):], hemi='left', colorbar=False, bg_map=fsaverage['sulc_left'], bg_on_data=True,cmap=\"coolwarm\",axes=ax)\n",
        "ax = fig.add_subplot(2, 4, 6, projection='3d')\n",
        "plotting.plot_surf_stat_map(\n",
        "        fsaverage.infl_left, upscale(area_recon)[len(area_recon):], hemi='left', colorbar=True, bg_map=fsaverage['sulc_left'], bg_on_data=True,cmap=\"coolwarm\",axes=ax,view='medial')\n",
        "\n",
        "ax =fig.add_subplot(2, 4, 7, projection='3d')\n",
        "plotting.plot_surf_stat_map(\n",
        "        fsaverage.infl_right, upscale(area_recon)[:len(area_recon)], hemi='right', colorbar=False, bg_map=fsaverage['sulc_right'], bg_on_data=True,cmap=\"coolwarm\",axes=ax)\n",
        "ax = fig.add_subplot(2, 4, 8, projection='3d')\n",
        "plotting.plot_surf_stat_map(\n",
        "        fsaverage.infl_right, upscale(area_recon)[:len(area_recon)], hemi='right', colorbar=True, bg_map=fsaverage['sulc_right'], bg_on_data=True,cmap=\"coolwarm\",axes=ax,view='medial')"
      ]
    },
    {
      "cell_type": "code",
      "execution_count": null,
      "metadata": {
        "id": "KWHEpf1AkL0s"
      },
      "outputs": [],
      "source": [
        "\n",
        "fig = plt.figure(figsize=(12,6), dpi= 300,constrained_layout=True)\n",
        "\n",
        "for i,data in enumerate([area_data_mean,area_recon,func_to_area,thick_to_area,thick_data_mean,thick_recon,func_to_thick,area_to_thick]):\n",
        "  ax = fig.add_subplot(2, 4, i+1, projection='3d')\n",
        "  plotting.plot_surf_stat_map(datasets.fetch_surf_fsaverage(mesh='fsaverage').white_left,upscale(data)[len(data):],axes=ax,colorbar=True,cmap='viridis')\n",
        "'''\n",
        "ax.set_title(\"Average Normalized CSA\")\n",
        "\n",
        "ax = fig.add_subplot(2, 4, 2, projection='3d')\n",
        "plotting.plot_surf_stat_map(datasets.fetch_surf_fsaverage(mesh='fsaverage').white_left,thick_recon.flatten(),axes=ax,colorbar=True,cmap='viridis')\n",
        "ax.set_title(\"Average Reconstructed CSA\")\n",
        "\n",
        "ax = fig.add_subplot(2, 4, 3, projection='3d')\n",
        "plotting.plot_surf_stat_map(datasets.fetch_surf_fsaverage(mesh='fsaverage').white_left,func_to_thick,axes=ax,colorbar=True,cmap='viridis')\n",
        "ax.set_title(\"Average FC -> CSA\")\n",
        "\n",
        "ax = fig.add_subplot(2, 4, 4, projection='3d')\n",
        "plotting.plot_surf_stat_map(datasets.fetch_surf_fsaverage(mesh='fsaverage').white_left,area_to_thick,axes=ax,colorbar=True,cmap='viridis')\n",
        "\n",
        "ax.set_title(\"Average CT -> CSA\")\n",
        "\n",
        "ax = fig.add_subplot(2, 4, 5, projection='3d')\n",
        "plotting.plot_surf_stat_map(datasets.fetch_surf_fsaverage(mesh='fsaverage').white_left,thick_data_mean,axes=ax,colorbar=True,cmap='winter')\n",
        "ax.set_title(\"Average Normalized CT\")\n",
        "\n",
        "\n",
        "ax = fig.add_subplot(2, 4, 6, projection='3d')\n",
        "plotting.plot_surf_stat_map(datasets.fetch_surf_fsaverage(mesh='fsaverage').white_left,area_recon,axes=ax,colorbar=True,cmap='winter')\n",
        "ax.set_title(\"Average Reconstructed CT\")\n",
        "ax = fig.add_subplot(2, 4, 7, projection='3d')\n",
        "plotting.plot_surf_stat_map(datasets.fetch_surf_fsaverage(mesh='fsaverage').white_left,func_to_area,axes=ax,colorbar=True,cmap='winter')\n",
        "ax.set_title(\"Average FC -> CT\")\n",
        "\n",
        "ax = fig.add_subplot(2, 4, 8, projection='3d')\n",
        "plotting.plot_surf_stat_map(datasets.fetch_surf_fsaverage(mesh='fsaverage').white_left,thick_to_area,axes=ax,colorbar=True,cmap='winter')\n",
        "ax.set_title(\"Average CSA -> CT\")'''"
      ]
    },
    {
      "cell_type": "code",
      "execution_count": null,
      "metadata": {
        "id": "iDiJj11OdB7n"
      },
      "outputs": [],
      "source": [
        "from nilearn import surface\n",
        "texture = surface.vol_to_surf(upscale(data), datasets.fetch_surf_fsaverage(mesh='fsaverage').pial_right)"
      ]
    },
    {
      "cell_type": "code",
      "execution_count": null,
      "metadata": {
        "id": "OeO3msWDZ86F"
      },
      "outputs": [],
      "source": [
        "import plotly\n",
        "\n",
        "plotting.plot_surf_stat_map(datasets.fetch_surf_fsaverage(mesh='fsaverage').pial_left,upscale(data)[:len(data)],\n",
        "                          views=['anterior'],\n",
        "                          hemispheres=['left'],\n",
        "                          colorbar=True)\n",
        "plotting.show()\n",
        "\n"
      ]
    },
    {
      "cell_type": "code",
      "execution_count": null,
      "metadata": {
        "id": "ridXrHc7bL2W"
      },
      "outputs": [],
      "source": [
        "\n",
        "stat_img = datasets.load_sample_motor_activation_image()\n",
        "print(stat_img)"
      ]
    }
  ],
  "metadata": {
    "colab": {
      "collapsed_sections": [
        "SUBrTu2Vk3gO",
        "kf-WLMrloGpN",
        "o-mpYm7wdJ9u"
      ],
      "machine_shape": "hm",
      "provenance": [],
      "include_colab_link": true
    },
    "kernelspec": {
      "display_name": "Python 3",
      "name": "python3"
    },
    "language_info": {
      "name": "python"
    }
  },
  "nbformat": 4,
  "nbformat_minor": 0
}